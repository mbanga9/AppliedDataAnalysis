{
 "cells": [
  {
   "cell_type": "code",
   "execution_count": 1,
   "metadata": {
    "collapsed": true
   },
   "outputs": [],
   "source": [
    "# Import needed libraries\n",
    "import requests\n",
    "from bs4 import BeautifulSoup\n",
    "import pandas as pd\n",
    "import numpy as np\n",
    "import seaborn\n",
    "import re\n",
    "import pickle\n",
    "%matplotlib inline"
   ]
  },
  {
   "cell_type": "markdown",
   "metadata": {},
   "source": [
    "# 01. Scraping info from topuniversities.com"
   ]
  },
  {
   "cell_type": "code",
   "execution_count": 2,
   "metadata": {
    "collapsed": true
   },
   "outputs": [],
   "source": [
    "qs_url = 'https://www.topuniversities.com'"
   ]
  },
  {
   "cell_type": "markdown",
   "metadata": {},
   "source": [
    "## Initial postman/parsing\n",
    "Trying to get the url which contains the actual data that we want to parse. Using Postman we can see that the actual ranking data which is shown on the page is generated with a request to `rank_url`, therefore it is this\n",
    "link that we'll need to GET to extract all the data we're interested in."
   ]
  },
  {
   "cell_type": "code",
   "execution_count": 3,
   "metadata": {
    "collapsed": true
   },
   "outputs": [],
   "source": [
    "resp = requests.get(qs_url + '/university-rankings/world-university-rankings/2018')"
   ]
  },
  {
   "cell_type": "code",
   "execution_count": 4,
   "metadata": {},
   "outputs": [
    {
     "name": "stdout",
     "output_type": "stream",
     "text": [
      "https:\\/\\/www.topuniversities.com\\/sites\\/default\\/files\\/qs-rankings-data\\/357051.txt\n"
     ]
    }
   ],
   "source": [
    "start = resp.text.find('rank_url')\n",
    "start = resp.text.find('http', start)\n",
    "stop = resp.text.find('.txt', start)\n",
    "qs_data_url = resp.text[start:stop+len('.txt')]\n",
    "print(qs_data_url)"
   ]
  },
  {
   "cell_type": "markdown",
   "metadata": {},
   "source": [
    "We've still got all the escape characters, in this case backslashes, so we'll have to replace them:"
   ]
  },
  {
   "cell_type": "code",
   "execution_count": 5,
   "metadata": {},
   "outputs": [
    {
     "name": "stdout",
     "output_type": "stream",
     "text": [
      "https://www.topuniversities.com/sites/default/files/qs-rankings-data/357051.txt\n"
     ]
    }
   ],
   "source": [
    "qs_data_url = qs_data_url.replace('\\\\' , '')\n",
    "print(qs_data_url)"
   ]
  },
  {
   "cell_type": "markdown",
   "metadata": {},
   "source": [
    "## Scraping the main data and putting everything into a `DataFrame`\n",
    "Scraping everything that is contained in the `rank_url`. This is the majority of what we are interested in, the faculty and student data are contained on another page that is specific to each university. This will be scraped afterwards.\n",
    "Handily enough, the data from `rank_url` is in `JSON` format, so we'll use the `JSON` parsing capabilities of \n",
    "`requests`"
   ]
  },
  {
   "cell_type": "code",
   "execution_count": 6,
   "metadata": {},
   "outputs": [
    {
     "data": {
      "text/plain": [
       "dict_keys(['data'])"
      ]
     },
     "execution_count": 6,
     "metadata": {},
     "output_type": "execute_result"
    }
   ],
   "source": [
    "rank_data = requests.get(qs_data_url)\n",
    "parsed_data = rank_data.json()\n",
    "parsed_data.keys()"
   ]
  },
  {
   "cell_type": "markdown",
   "metadata": {},
   "source": [
    "We've got a `Dict` with only one key, so let's have a look into it."
   ]
  },
  {
   "cell_type": "code",
   "execution_count": 7,
   "metadata": {},
   "outputs": [
    {
     "name": "stdout",
     "output_type": "stream",
     "text": [
      "<class 'list'>\n",
      "959\n"
     ]
    },
    {
     "data": {
      "text/plain": [
       "{'core_id': '410',\n",
       " 'country': 'United States',\n",
       " 'guide': '<a href=\"/where-to-study/north-america/united-states/guide\" class=\"guide-link\" target=\"_blank\">United States</a>',\n",
       " 'logo': '<img src=\"https://www.topuniversities.com/sites/default/files/massachusetts-institute-of-technology-mit_410_small_0.jpg\" alt=\"Massachusetts Institute of Technology (MIT) Logo\">',\n",
       " 'nid': '294850',\n",
       " 'rank_display': '1',\n",
       " 'region': 'North America',\n",
       " 'score': '100',\n",
       " 'stars': '',\n",
       " 'title': 'Massachusetts Institute of Technology (MIT)',\n",
       " 'url': '/universities/massachusetts-institute-technology-mit'}"
      ]
     },
     "execution_count": 7,
     "metadata": {},
     "output_type": "execute_result"
    }
   ],
   "source": [
    "print(type(parsed_data['data']))\n",
    "print(len(parsed_data['data']))\n",
    "parsed_data['data'][0]"
   ]
  },
  {
   "cell_type": "markdown",
   "metadata": {},
   "source": [
    "We've got a list of 959 entries. Not too surprisingly the list we get in the `data` key is conveniently organised from highest to lowest ranked."
   ]
  },
  {
   "cell_type": "markdown",
   "metadata": {},
   "source": [
    "Let's now put all of this data into a single `DataFrame`. We're only interested in the top 200 universities, so we'll ignore the rest of the set."
   ]
  },
  {
   "cell_type": "code",
   "execution_count": 8,
   "metadata": {},
   "outputs": [
    {
     "name": "stdout",
     "output_type": "stream",
     "text": [
      "(200, 11)\n"
     ]
    },
    {
     "data": {
      "text/html": [
       "<div>\n",
       "<style>\n",
       "    .dataframe thead tr:only-child th {\n",
       "        text-align: right;\n",
       "    }\n",
       "\n",
       "    .dataframe thead th {\n",
       "        text-align: left;\n",
       "    }\n",
       "\n",
       "    .dataframe tbody tr th {\n",
       "        vertical-align: top;\n",
       "    }\n",
       "</style>\n",
       "<table border=\"1\" class=\"dataframe\">\n",
       "  <thead>\n",
       "    <tr style=\"text-align: right;\">\n",
       "      <th></th>\n",
       "      <th>core_id</th>\n",
       "      <th>country</th>\n",
       "      <th>guide</th>\n",
       "      <th>logo</th>\n",
       "      <th>nid</th>\n",
       "      <th>rank_display</th>\n",
       "      <th>region</th>\n",
       "      <th>score</th>\n",
       "      <th>stars</th>\n",
       "      <th>title</th>\n",
       "      <th>url</th>\n",
       "    </tr>\n",
       "  </thead>\n",
       "  <tbody>\n",
       "    <tr>\n",
       "      <th>0</th>\n",
       "      <td>410</td>\n",
       "      <td>United States</td>\n",
       "      <td>&lt;a href=\"/where-to-study/north-america/united-...</td>\n",
       "      <td>&lt;img src=\"https://www.topuniversities.com/site...</td>\n",
       "      <td>294850</td>\n",
       "      <td>1</td>\n",
       "      <td>North America</td>\n",
       "      <td>100</td>\n",
       "      <td></td>\n",
       "      <td>Massachusetts Institute of Technology (MIT)</td>\n",
       "      <td>/universities/massachusetts-institute-technolo...</td>\n",
       "    </tr>\n",
       "    <tr>\n",
       "      <th>1</th>\n",
       "      <td>573</td>\n",
       "      <td>United States</td>\n",
       "      <td>&lt;a href=\"/where-to-study/north-america/united-...</td>\n",
       "      <td>&lt;img src=\"https://www.topuniversities.com/site...</td>\n",
       "      <td>297282</td>\n",
       "      <td>2</td>\n",
       "      <td>North America</td>\n",
       "      <td>98.7</td>\n",
       "      <td></td>\n",
       "      <td>Stanford University</td>\n",
       "      <td>/universities/stanford-university</td>\n",
       "    </tr>\n",
       "    <tr>\n",
       "      <th>2</th>\n",
       "      <td>253</td>\n",
       "      <td>United States</td>\n",
       "      <td>&lt;a href=\"/where-to-study/north-america/united-...</td>\n",
       "      <td>&lt;img src=\"https://www.topuniversities.com/site...</td>\n",
       "      <td>294270</td>\n",
       "      <td>3</td>\n",
       "      <td>North America</td>\n",
       "      <td>98.4</td>\n",
       "      <td></td>\n",
       "      <td>Harvard University</td>\n",
       "      <td>/universities/harvard-university</td>\n",
       "    </tr>\n",
       "    <tr>\n",
       "      <th>3</th>\n",
       "      <td>94</td>\n",
       "      <td>United States</td>\n",
       "      <td>&lt;a href=\"/where-to-study/north-america/united-...</td>\n",
       "      <td>&lt;img src=\"https://www.topuniversities.com/site...</td>\n",
       "      <td>294562</td>\n",
       "      <td>4</td>\n",
       "      <td>North America</td>\n",
       "      <td>97.7</td>\n",
       "      <td></td>\n",
       "      <td>California Institute of Technology (Caltech)</td>\n",
       "      <td>/universities/california-institute-technology-...</td>\n",
       "    </tr>\n",
       "    <tr>\n",
       "      <th>4</th>\n",
       "      <td>95</td>\n",
       "      <td>United Kingdom</td>\n",
       "      <td>&lt;a href=\"/where-to-study/europe/united-kingdom...</td>\n",
       "      <td>&lt;img src=\"https://www.topuniversities.com/site...</td>\n",
       "      <td>294561</td>\n",
       "      <td>5</td>\n",
       "      <td>Europe</td>\n",
       "      <td>95.6</td>\n",
       "      <td></td>\n",
       "      <td>University of Cambridge</td>\n",
       "      <td>/universities/university-cambridge</td>\n",
       "    </tr>\n",
       "  </tbody>\n",
       "</table>\n",
       "</div>"
      ],
      "text/plain": [
       "  core_id         country                                              guide  \\\n",
       "0     410   United States  <a href=\"/where-to-study/north-america/united-...   \n",
       "1     573   United States  <a href=\"/where-to-study/north-america/united-...   \n",
       "2     253   United States  <a href=\"/where-to-study/north-america/united-...   \n",
       "3      94   United States  <a href=\"/where-to-study/north-america/united-...   \n",
       "4      95  United Kingdom  <a href=\"/where-to-study/europe/united-kingdom...   \n",
       "\n",
       "                                                logo     nid rank_display  \\\n",
       "0  <img src=\"https://www.topuniversities.com/site...  294850            1   \n",
       "1  <img src=\"https://www.topuniversities.com/site...  297282            2   \n",
       "2  <img src=\"https://www.topuniversities.com/site...  294270            3   \n",
       "3  <img src=\"https://www.topuniversities.com/site...  294562            4   \n",
       "4  <img src=\"https://www.topuniversities.com/site...  294561            5   \n",
       "\n",
       "          region score stars                                         title  \\\n",
       "0  North America   100         Massachusetts Institute of Technology (MIT)   \n",
       "1  North America  98.7                                 Stanford University   \n",
       "2  North America  98.4                                  Harvard University   \n",
       "3  North America  97.7        California Institute of Technology (Caltech)   \n",
       "4         Europe  95.6                             University of Cambridge   \n",
       "\n",
       "                                                 url  \n",
       "0  /universities/massachusetts-institute-technolo...  \n",
       "1                  /universities/stanford-university  \n",
       "2                   /universities/harvard-university  \n",
       "3  /universities/california-institute-technology-...  \n",
       "4                 /universities/university-cambridge  "
      ]
     },
     "execution_count": 8,
     "metadata": {},
     "output_type": "execute_result"
    }
   ],
   "source": [
    "qs_df = pd.DataFrame()\n",
    "for i in range(0,200):\n",
    "    qs_df = qs_df.append(parsed_data['data'][i], ignore_index=True)\n",
    "print(qs_df.shape)\n",
    "qs_df.head()"
   ]
  },
  {
   "cell_type": "markdown",
   "metadata": {},
   "source": [
    "We've now got a `DataFrame` with the main information, but we still need to scrape a page for each individual university that contains the number of total and international, faculty and students.\n",
    "\n",
    "## Scraping the specific page for each university\n",
    "\n",
    "We will first define a handy little function to extract numbers from strings with newlines and commas, for example from `\\n1,300` we want to extract only the `1300`"
   ]
  },
  {
   "cell_type": "code",
   "execution_count": 9,
   "metadata": {
    "collapsed": true
   },
   "outputs": [],
   "source": [
    "def xtract_number(str_in):\n",
    "    str_in = str_in.replace(',' , '')\n",
    "    str_in = re.search(r'\\d+', str_in).group()\n",
    "    return str_in"
   ]
  },
  {
   "cell_type": "markdown",
   "metadata": {},
   "source": [
    "Let's add the extra columns that we're going to populate"
   ]
  },
  {
   "cell_type": "code",
   "execution_count": 10,
   "metadata": {
    "collapsed": true
   },
   "outputs": [],
   "source": [
    "columns_to_add = ['total faculty','inter faculty','total student','total inter']\n",
    "qs_df = pd.concat([qs_df, pd.DataFrame(columns=columns_to_add)], axis=1)"
   ]
  },
  {
   "cell_type": "markdown",
   "metadata": {},
   "source": [
    "The page containing the additional data we're looking for is already contained in the `url` field of our `DataFrame`. Each value we're looking for is contained in a `<div>` tag with `class=` the data we're looking for, within this tag is another `<div>` tag with `class=\"number\"` which has the actual numeric value. We're therefore going to parse the page for each university and use `BeautifulSoup` to find all these tags. As there are several of them on each page, we'll double-check that they're  all the same.\n",
    "The following step is very slow, it has to parse a lot of html for 200 entries."
   ]
  },
  {
   "cell_type": "code",
   "execution_count": 11,
   "metadata": {},
   "outputs": [
    {
     "name": "stdout",
     "output_type": "stream",
     "text": [
      "No data for Massachusetts Institute of Technology (MIT) concerning total faculty\n",
      "No data for Massachusetts Institute of Technology (MIT) concerning inter faculty\n",
      "No data for Massachusetts Institute of Technology (MIT) concerning total student\n",
      "No data for Massachusetts Institute of Technology (MIT) concerning total inter\n",
      "No data for Stanford University concerning total faculty\n",
      "No data for Stanford University concerning inter faculty\n",
      "No data for Stanford University concerning total student\n",
      "No data for Stanford University concerning total inter\n",
      "No data for Harvard University concerning total faculty\n",
      "No data for Harvard University concerning inter faculty\n",
      "No data for Harvard University concerning total student\n",
      "No data for Harvard University concerning total inter\n",
      "No data for California Institute of Technology (Caltech) concerning total faculty\n",
      "No data for California Institute of Technology (Caltech) concerning inter faculty\n",
      "No data for California Institute of Technology (Caltech) concerning total student\n",
      "No data for California Institute of Technology (Caltech) concerning total inter\n",
      "No data for University of Cambridge concerning total faculty\n",
      "No data for University of Cambridge concerning inter faculty\n",
      "No data for University of Cambridge concerning total student\n",
      "No data for University of Cambridge concerning total inter\n",
      "No data for University of Oxford concerning total faculty\n",
      "No data for University of Oxford concerning inter faculty\n",
      "No data for University of Oxford concerning total student\n",
      "No data for University of Oxford concerning total inter\n",
      "No data for UCL (University College London) concerning total faculty\n",
      "No data for UCL (University College London) concerning inter faculty\n",
      "No data for UCL (University College London) concerning total student\n",
      "No data for UCL (University College London) concerning total inter\n",
      "No data for Imperial College London concerning total faculty\n",
      "No data for Imperial College London concerning inter faculty\n",
      "No data for Imperial College London concerning total student\n",
      "No data for Imperial College London concerning total inter\n",
      "No data for University of Chicago concerning total faculty\n",
      "No data for University of Chicago concerning inter faculty\n",
      "No data for University of Chicago concerning total student\n",
      "No data for University of Chicago concerning total inter\n",
      "No data for ETH Zurich - Swiss Federal Institute of Technology concerning total faculty\n",
      "No data for ETH Zurich - Swiss Federal Institute of Technology concerning inter faculty\n",
      "No data for ETH Zurich - Swiss Federal Institute of Technology concerning total student\n",
      "No data for ETH Zurich - Swiss Federal Institute of Technology concerning total inter\n",
      "No data for Nanyang Technological University, Singapore (NTU) concerning total faculty\n",
      "No data for Nanyang Technological University, Singapore (NTU) concerning inter faculty\n",
      "No data for Nanyang Technological University, Singapore (NTU) concerning total student\n",
      "No data for Nanyang Technological University, Singapore (NTU) concerning total inter\n",
      "No data for EPFL - Ecole Polytechnique Federale de Lausanne concerning total faculty\n",
      "No data for EPFL - Ecole Polytechnique Federale de Lausanne concerning inter faculty\n",
      "No data for EPFL - Ecole Polytechnique Federale de Lausanne concerning total student\n",
      "No data for EPFL - Ecole Polytechnique Federale de Lausanne concerning total inter\n",
      "No data for Princeton University concerning total faculty\n",
      "No data for Princeton University concerning inter faculty\n",
      "No data for Princeton University concerning total student\n",
      "No data for Princeton University concerning total inter\n",
      "No data for Cornell University concerning total faculty\n",
      "No data for Cornell University concerning inter faculty\n",
      "No data for Cornell University concerning total student\n",
      "No data for Cornell University concerning total inter\n",
      "No data for National University of Singapore (NUS) concerning total faculty\n",
      "No data for National University of Singapore (NUS) concerning inter faculty\n",
      "No data for National University of Singapore (NUS) concerning total student\n",
      "No data for National University of Singapore (NUS) concerning total inter\n",
      "No data for Yale University concerning total faculty\n",
      "No data for Yale University concerning inter faculty\n",
      "No data for Yale University concerning total student\n",
      "No data for Yale University concerning total inter\n",
      "No data for Johns Hopkins University concerning total faculty\n",
      "No data for Johns Hopkins University concerning inter faculty\n",
      "No data for Johns Hopkins University concerning total student\n",
      "No data for Johns Hopkins University concerning total inter\n",
      "No data for Columbia University concerning total faculty\n",
      "No data for Columbia University concerning inter faculty\n",
      "No data for Columbia University concerning total student\n",
      "No data for Columbia University concerning total inter\n",
      "No data for University of Pennsylvania concerning total faculty\n",
      "No data for University of Pennsylvania concerning inter faculty\n",
      "No data for University of Pennsylvania concerning total student\n",
      "No data for University of Pennsylvania concerning total inter\n",
      "No data for The Australian National University concerning total faculty\n",
      "No data for The Australian National University concerning inter faculty\n",
      "No data for The Australian National University concerning total student\n",
      "No data for The Australian National University concerning total inter\n",
      "No data for University of Michigan concerning total faculty\n",
      "No data for University of Michigan concerning inter faculty\n",
      "No data for University of Michigan concerning total student\n",
      "No data for University of Michigan concerning total inter\n",
      "No data for Duke University concerning total faculty\n",
      "No data for Duke University concerning inter faculty\n",
      "No data for Duke University concerning total student\n",
      "No data for Duke University concerning total inter\n",
      "No data for The University of Edinburgh concerning total faculty\n",
      "No data for The University of Edinburgh concerning inter faculty\n",
      "No data for The University of Edinburgh concerning total student\n",
      "No data for The University of Edinburgh concerning total inter\n",
      "No data for King's College London concerning total faculty\n",
      "No data for King's College London concerning inter faculty\n",
      "No data for King's College London concerning total student\n",
      "No data for King's College London concerning total inter\n",
      "No data for Tsinghua University concerning total faculty\n",
      "No data for Tsinghua University concerning inter faculty\n",
      "No data for Tsinghua University concerning total student\n",
      "No data for Tsinghua University concerning total inter\n",
      "No data for The University of Hong Kong concerning total faculty\n",
      "No data for The University of Hong Kong concerning inter faculty\n",
      "No data for The University of Hong Kong concerning total student\n",
      "No data for The University of Hong Kong concerning total inter\n",
      "No data for University of California, Berkeley (UCB) concerning total faculty\n",
      "No data for University of California, Berkeley (UCB) concerning inter faculty\n",
      "No data for University of California, Berkeley (UCB) concerning total student\n",
      "No data for University of California, Berkeley (UCB) concerning total inter\n",
      "No data for The University of Tokyo concerning total faculty\n",
      "No data for The University of Tokyo concerning inter faculty\n",
      "No data for The University of Tokyo concerning total student\n",
      "No data for The University of Tokyo concerning total inter\n",
      "No data for Northwestern University concerning total faculty\n",
      "No data for Northwestern University concerning inter faculty\n",
      "No data for Northwestern University concerning total student\n",
      "No data for Northwestern University concerning total inter\n",
      "No data for The Hong Kong University of Science and Technology concerning total faculty\n",
      "No data for The Hong Kong University of Science and Technology concerning inter faculty\n",
      "No data for The Hong Kong University of Science and Technology concerning total student\n",
      "No data for The Hong Kong University of Science and Technology concerning total inter\n",
      "No data for University of Toronto concerning total faculty\n",
      "No data for University of Toronto concerning inter faculty\n",
      "No data for University of Toronto concerning total student\n",
      "No data for University of Toronto concerning total inter\n",
      "No data for McGill University concerning total faculty\n",
      "No data for McGill University concerning inter faculty\n",
      "No data for McGill University concerning total student\n",
      "No data for McGill University concerning total inter\n"
     ]
    },
    {
     "name": "stdout",
     "output_type": "stream",
     "text": [
      "No data for University of California, Los Angeles (UCLA) concerning total faculty\n",
      "No data for University of California, Los Angeles (UCLA) concerning inter faculty\n",
      "No data for University of California, Los Angeles (UCLA) concerning total student\n",
      "No data for University of California, Los Angeles (UCLA) concerning total inter\n",
      "No data for The University of Manchester concerning total faculty\n",
      "No data for The University of Manchester concerning inter faculty\n",
      "No data for The University of Manchester concerning total student\n",
      "No data for The University of Manchester concerning total inter\n",
      "No data for London School of Economics and Political Science (LSE) concerning total faculty\n",
      "No data for London School of Economics and Political Science (LSE) concerning inter faculty\n",
      "No data for London School of Economics and Political Science (LSE) concerning total student\n",
      "No data for London School of Economics and Political Science (LSE) concerning total inter\n",
      "No data for Kyoto University concerning total faculty\n",
      "No data for Kyoto University concerning inter faculty\n",
      "No data for Kyoto University concerning total student\n",
      "No data for Kyoto University concerning total inter\n",
      "No data for Seoul National University concerning total faculty\n",
      "No data for Seoul National University concerning inter faculty\n",
      "No data for Seoul National University concerning total student\n",
      "No data for Seoul National University concerning total inter\n",
      "No data for Peking University concerning total faculty\n",
      "No data for Peking University concerning inter faculty\n",
      "No data for Peking University concerning total student\n",
      "No data for Peking University concerning total inter\n",
      "No data for University of California, San Diego (UCSD) concerning total faculty\n",
      "No data for University of California, San Diego (UCSD) concerning inter faculty\n",
      "No data for University of California, San Diego (UCSD) concerning total student\n",
      "No data for University of California, San Diego (UCSD) concerning total inter\n",
      "No data for Fudan University concerning total faculty\n",
      "No data for Fudan University concerning inter faculty\n",
      "No data for Fudan University concerning total student\n",
      "No data for Fudan University concerning total inter\n",
      "No data for KAIST - Korea Advanced Institute of Science & Technology concerning total faculty\n",
      "No data for KAIST - Korea Advanced Institute of Science & Technology concerning inter faculty\n",
      "No data for KAIST - Korea Advanced Institute of Science & Technology concerning total student\n",
      "No data for KAIST - Korea Advanced Institute of Science & Technology concerning total inter\n",
      "No data for The University of Melbourne concerning total faculty\n",
      "No data for The University of Melbourne concerning inter faculty\n",
      "No data for The University of Melbourne concerning total student\n",
      "No data for The University of Melbourne concerning total inter\n",
      "No data for Ecole normale supérieure, Paris concerning total faculty\n",
      "No data for Ecole normale supérieure, Paris concerning inter faculty\n",
      "No data for Ecole normale supérieure, Paris concerning total student\n",
      "No data for Ecole normale supérieure, Paris concerning total inter\n",
      "No data for University of Bristol concerning total faculty\n",
      "No data for University of Bristol concerning inter faculty\n",
      "No data for University of Bristol concerning total student\n",
      "No data for University of Bristol concerning total inter\n",
      "No data for The University of New South Wales (UNSW Sydney) concerning total faculty\n",
      "No data for The University of New South Wales (UNSW Sydney) concerning inter faculty\n",
      "No data for The University of New South Wales (UNSW Sydney) concerning total student\n",
      "No data for The University of New South Wales (UNSW Sydney) concerning total inter\n",
      "No data for The Chinese University of Hong Kong (CUHK) concerning total faculty\n",
      "No data for The Chinese University of Hong Kong (CUHK) concerning inter faculty\n",
      "No data for The Chinese University of Hong Kong (CUHK) concerning total student\n",
      "No data for The Chinese University of Hong Kong (CUHK) concerning total inter\n",
      "No data for The University of Queensland concerning total faculty\n",
      "No data for The University of Queensland concerning inter faculty\n",
      "No data for The University of Queensland concerning total student\n",
      "No data for The University of Queensland concerning total inter\n",
      "No data for Carnegie Mellon University concerning total faculty\n",
      "No data for Carnegie Mellon University concerning inter faculty\n",
      "No data for Carnegie Mellon University concerning total student\n",
      "No data for Carnegie Mellon University concerning total inter\n",
      "No data for City University of Hong Kong concerning total faculty\n",
      "No data for City University of Hong Kong concerning inter faculty\n",
      "No data for City University of Hong Kong concerning total student\n",
      "No data for City University of Hong Kong concerning total inter\n",
      "No data for The University of Sydney concerning total faculty\n",
      "No data for The University of Sydney concerning inter faculty\n",
      "No data for The University of Sydney concerning total student\n",
      "No data for The University of Sydney concerning total inter\n",
      "No data for University of British Columbia concerning total faculty\n",
      "No data for University of British Columbia concerning inter faculty\n",
      "No data for University of British Columbia concerning total student\n",
      "No data for University of British Columbia concerning total inter\n",
      "No data for New York University (NYU) concerning total faculty\n",
      "No data for New York University (NYU) concerning inter faculty\n",
      "No data for New York University (NYU) concerning total student\n",
      "No data for New York University (NYU) concerning total inter\n",
      "No data for Brown University concerning total faculty\n",
      "No data for Brown University concerning inter faculty\n",
      "No data for Brown University concerning total student\n",
      "No data for Brown University concerning total inter\n",
      "No data for Delft University of Technology concerning total faculty\n",
      "No data for Delft University of Technology concerning inter faculty\n",
      "No data for Delft University of Technology concerning total student\n",
      "No data for Delft University of Technology concerning total inter\n",
      "No data for University of Wisconsin-Madison concerning total faculty\n",
      "No data for University of Wisconsin-Madison concerning inter faculty\n",
      "No data for University of Wisconsin-Madison concerning total student\n",
      "No data for University of Wisconsin-Madison concerning total inter\n",
      "No data for Tokyo Institute of Technology concerning total faculty\n",
      "No data for Tokyo Institute of Technology concerning inter faculty\n",
      "No data for Tokyo Institute of Technology concerning total student\n",
      "No data for Tokyo Institute of Technology concerning total inter\n",
      "No data for The University of Warwick concerning total faculty\n",
      "No data for The University of Warwick concerning inter faculty\n",
      "No data for The University of Warwick concerning total student\n",
      "No data for The University of Warwick concerning total inter\n",
      "No data for University of Amsterdam concerning total faculty\n",
      "No data for University of Amsterdam concerning inter faculty\n",
      "No data for University of Amsterdam concerning total student\n",
      "No data for University of Amsterdam concerning total inter\n",
      "No data for Ecole Polytechnique concerning total faculty\n",
      "No data for Ecole Polytechnique concerning inter faculty\n",
      "No data for Ecole Polytechnique concerning total student\n",
      "No data for Ecole Polytechnique concerning total inter\n",
      "No data for Monash University concerning total faculty\n",
      "No data for Monash University concerning inter faculty\n",
      "No data for Monash University concerning total student\n",
      "No data for Monash University concerning total inter\n",
      "No data for University of Washington concerning total faculty\n",
      "No data for University of Washington concerning inter faculty\n",
      "No data for University of Washington concerning total student\n",
      "No data for University of Washington concerning total inter\n",
      "No data for Shanghai Jiao Tong University concerning total faculty\n",
      "No data for Shanghai Jiao Tong University concerning inter faculty\n",
      "No data for Shanghai Jiao Tong University concerning total student\n",
      "No data for Shanghai Jiao Tong University concerning total inter\n",
      "No data for Osaka University concerning total faculty\n",
      "No data for Osaka University concerning inter faculty\n",
      "No data for Osaka University concerning total student\n",
      "No data for Osaka University concerning total inter\n"
     ]
    },
    {
     "name": "stdout",
     "output_type": "stream",
     "text": [
      "No data for Technical University of Munich concerning total faculty\n",
      "No data for Technical University of Munich concerning inter faculty\n",
      "No data for Technical University of Munich concerning total student\n",
      "No data for Technical University of Munich concerning total inter\n",
      "No data for University of Glasgow concerning total faculty\n",
      "No data for University of Glasgow concerning inter faculty\n",
      "No data for University of Glasgow concerning total student\n",
      "No data for University of Glasgow concerning total inter\n",
      "No data for Ludwig-Maximilians-Universität München concerning total faculty\n",
      "No data for Ludwig-Maximilians-Universität München concerning inter faculty\n",
      "No data for Ludwig-Maximilians-Universität München concerning total student\n",
      "No data for Ludwig-Maximilians-Universität München concerning total inter\n",
      "No data for University of Texas at Austin concerning total faculty\n",
      "No data for University of Texas at Austin concerning inter faculty\n",
      "No data for University of Texas at Austin concerning total student\n",
      "No data for University of Texas at Austin concerning total inter\n",
      "No data for Ruprecht-Karls-Universität Heidelberg concerning total faculty\n",
      "No data for Ruprecht-Karls-Universität Heidelberg concerning inter faculty\n",
      "No data for Ruprecht-Karls-Universität Heidelberg concerning total student\n",
      "No data for Ruprecht-Karls-Universität Heidelberg concerning total inter\n",
      "No data for University of Illinois at Urbana-Champaign concerning total faculty\n",
      "No data for University of Illinois at Urbana-Champaign concerning inter faculty\n",
      "No data for University of Illinois at Urbana-Champaign concerning total student\n",
      "No data for University of Illinois at Urbana-Champaign concerning total inter\n",
      "No data for Georgia Institute of Technology concerning total faculty\n",
      "No data for Georgia Institute of Technology concerning inter faculty\n",
      "No data for Georgia Institute of Technology concerning total student\n",
      "No data for Georgia Institute of Technology concerning total inter\n",
      "No data for KU Leuven concerning total faculty\n",
      "No data for KU Leuven concerning inter faculty\n",
      "No data for KU Leuven concerning total student\n",
      "No data for KU Leuven concerning total inter\n",
      "No data for Pohang University of Science And Technology (POSTECH) concerning total faculty\n",
      "No data for Pohang University of Science And Technology (POSTECH) concerning inter faculty\n",
      "No data for Pohang University of Science And Technology (POSTECH) concerning total student\n",
      "No data for Pohang University of Science And Technology (POSTECH) concerning total inter\n",
      "No data for University of Copenhagen concerning total faculty\n",
      "No data for University of Copenhagen concerning inter faculty\n",
      "No data for University of Copenhagen concerning total student\n",
      "No data for University of Copenhagen concerning total inter\n",
      "No data for University of Zurich concerning total faculty\n",
      "No data for University of Zurich concerning inter faculty\n",
      "No data for University of Zurich concerning total student\n",
      "No data for University of Zurich concerning total inter\n",
      "No data for Universidad de Buenos Aires (UBA) concerning total faculty\n",
      "No data for Universidad de Buenos Aires (UBA) concerning inter faculty\n",
      "No data for Universidad de Buenos Aires (UBA) concerning total student\n",
      "No data for Universidad de Buenos Aires (UBA) concerning total inter\n",
      "No data for National Taiwan University (NTU) concerning total faculty\n",
      "No data for National Taiwan University (NTU) concerning inter faculty\n",
      "No data for National Taiwan University (NTU) concerning total student\n",
      "No data for National Taiwan University (NTU) concerning total inter\n",
      "No data for Tohoku University concerning total faculty\n",
      "No data for Tohoku University concerning inter faculty\n",
      "No data for Tohoku University concerning total student\n",
      "No data for Tohoku University concerning total inter\n",
      "No data for Durham University concerning total faculty\n",
      "No data for Durham University concerning inter faculty\n",
      "No data for Durham University concerning total student\n",
      "No data for Durham University concerning total inter\n",
      "No data for Lund University concerning total faculty\n",
      "No data for Lund University concerning inter faculty\n",
      "No data for Lund University concerning total student\n",
      "No data for Lund University concerning total inter\n",
      "No data for University of North Carolina, Chapel Hill concerning total faculty\n",
      "No data for University of North Carolina, Chapel Hill concerning inter faculty\n",
      "No data for University of North Carolina, Chapel Hill concerning total student\n",
      "No data for University of North Carolina, Chapel Hill concerning total inter\n",
      "No data for Boston University concerning total faculty\n",
      "No data for Boston University concerning inter faculty\n",
      "No data for Boston University concerning total student\n",
      "No data for Boston University concerning total inter\n",
      "No data for The University of Sheffield concerning total faculty\n",
      "No data for The University of Sheffield concerning inter faculty\n",
      "No data for The University of Sheffield concerning total student\n",
      "No data for The University of Sheffield concerning total inter\n",
      "No data for The University of Auckland concerning total faculty\n",
      "No data for The University of Auckland concerning inter faculty\n",
      "No data for The University of Auckland concerning total student\n",
      "No data for The University of Auckland concerning total inter\n",
      "No data for University of Birmingham concerning total faculty\n",
      "No data for University of Birmingham concerning inter faculty\n",
      "No data for University of Birmingham concerning total student\n",
      "No data for University of Birmingham concerning total inter\n",
      "No data for University of Nottingham concerning total faculty\n",
      "No data for University of Nottingham concerning inter faculty\n",
      "No data for University of Nottingham concerning total student\n",
      "No data for University of Nottingham concerning total inter\n",
      "No data for The Ohio State University concerning total faculty\n",
      "No data for The Ohio State University concerning inter faculty\n",
      "No data for The Ohio State University concerning total student\n",
      "No data for The Ohio State University concerning total inter\n",
      "No data for Zhejiang University concerning total faculty\n",
      "No data for Zhejiang University concerning inter faculty\n",
      "No data for Zhejiang University concerning total student\n",
      "No data for Zhejiang University concerning total inter\n",
      "No data for Trinity College Dublin, The University of Dublin concerning total faculty\n",
      "No data for Trinity College Dublin, The University of Dublin concerning inter faculty\n",
      "No data for Trinity College Dublin, The University of Dublin concerning total student\n",
      "No data for Trinity College Dublin, The University of Dublin concerning total inter\n",
      "No data for Rice University concerning total faculty\n",
      "No data for Rice University concerning inter faculty\n",
      "No data for Rice University concerning total student\n",
      "No data for Rice University concerning total inter\n",
      "No data for Korea University concerning total faculty\n",
      "No data for Korea University concerning inter faculty\n",
      "No data for Korea University concerning total student\n",
      "No data for Korea University concerning total inter\n",
      "No data for University of Alberta concerning total faculty\n",
      "No data for University of Alberta concerning inter faculty\n",
      "No data for University of Alberta concerning total student\n",
      "No data for University of Alberta concerning total inter\n",
      "No data for University of St Andrews concerning total faculty\n",
      "No data for University of St Andrews concerning inter faculty\n",
      "No data for University of St Andrews concerning total student\n",
      "No data for University of St Andrews concerning total inter\n",
      "No data for Pennsylvania State University concerning total faculty\n",
      "No data for Pennsylvania State University concerning inter faculty\n",
      "No data for Pennsylvania State University concerning total student\n",
      "No data for Pennsylvania State University concerning total inter\n",
      "No data for The University of Western Australia concerning total faculty\n",
      "No data for The University of Western Australia concerning inter faculty\n",
      "No data for The University of Western Australia concerning total student\n",
      "No data for The University of Western Australia concerning total inter\n",
      "No data for Lomonosov Moscow State University concerning total faculty\n",
      "No data for Lomonosov Moscow State University concerning inter faculty\n",
      "No data for Lomonosov Moscow State University concerning total student\n",
      "No data for Lomonosov Moscow State University concerning total inter\n"
     ]
    },
    {
     "name": "stdout",
     "output_type": "stream",
     "text": [
      "No data for The Hong Kong Polytechnic University concerning total faculty\n",
      "No data for The Hong Kong Polytechnic University concerning inter faculty\n",
      "No data for The Hong Kong Polytechnic University concerning total student\n",
      "No data for The Hong Kong Polytechnic University concerning total inter\n",
      "No data for University of Science and Technology of China concerning total faculty\n",
      "No data for University of Science and Technology of China concerning inter faculty\n",
      "No data for University of Science and Technology of China concerning total student\n",
      "No data for University of Science and Technology of China concerning total inter\n",
      "No data for KTH Royal Institute of Technology concerning total faculty\n",
      "No data for KTH Royal Institute of Technology concerning inter faculty\n",
      "No data for KTH Royal Institute of Technology concerning total student\n",
      "No data for KTH Royal Institute of Technology concerning total inter\n",
      "No data for University of Geneva concerning total faculty\n",
      "No data for University of Geneva concerning inter faculty\n",
      "No data for University of Geneva concerning total student\n",
      "No data for University of Geneva concerning total inter\n",
      "No data for Washington University in St. Louis concerning total faculty\n",
      "No data for Washington University in St. Louis concerning inter faculty\n",
      "No data for Washington University in St. Louis concerning total student\n",
      "No data for Washington University in St. Louis concerning total inter\n",
      "No data for University of Leeds concerning total faculty\n",
      "No data for University of Leeds concerning inter faculty\n",
      "No data for University of Leeds concerning total student\n",
      "No data for University of Leeds concerning total inter\n",
      "No data for University of Helsinki concerning total faculty\n",
      "No data for University of Helsinki concerning inter faculty\n",
      "No data for University of Helsinki concerning total student\n",
      "No data for University of Helsinki concerning total inter\n",
      "No data for University of Southampton concerning total faculty\n",
      "No data for University of Southampton concerning inter faculty\n",
      "No data for University of Southampton concerning total student\n",
      "No data for University of Southampton concerning total inter\n",
      "No data for Eindhoven University of Technology concerning total faculty\n",
      "No data for Eindhoven University of Technology concerning inter faculty\n",
      "No data for Eindhoven University of Technology concerning total student\n",
      "No data for Eindhoven University of Technology concerning total inter\n",
      "No data for Purdue University concerning total faculty\n",
      "No data for Purdue University concerning inter faculty\n",
      "No data for Purdue University concerning total student\n",
      "No data for Purdue University concerning total inter\n",
      "No data for Yonsei University concerning total faculty\n",
      "No data for Yonsei University concerning inter faculty\n",
      "No data for Yonsei University concerning total student\n",
      "No data for Yonsei University concerning total inter\n",
      "No data for KIT, Karlsruhe Institute of Technology concerning total faculty\n",
      "No data for KIT, Karlsruhe Institute of Technology concerning inter faculty\n",
      "No data for KIT, Karlsruhe Institute of Technology concerning total student\n",
      "No data for KIT, Karlsruhe Institute of Technology concerning total inter\n",
      "No data for Sungkyunkwan University (SKKU) concerning total faculty\n",
      "No data for Sungkyunkwan University (SKKU) concerning inter faculty\n",
      "No data for Sungkyunkwan University (SKKU) concerning total student\n",
      "No data for Sungkyunkwan University (SKKU) concerning total inter\n",
      "No data for The University of Adelaide concerning total faculty\n",
      "No data for The University of Adelaide concerning inter faculty\n",
      "No data for The University of Adelaide concerning total student\n",
      "No data for The University of Adelaide concerning total inter\n",
      "No data for Utrecht University concerning total faculty\n",
      "No data for Utrecht University concerning inter faculty\n",
      "No data for Utrecht University concerning total student\n",
      "No data for Utrecht University concerning total inter\n",
      "No data for Leiden University concerning total faculty\n",
      "No data for Leiden University concerning inter faculty\n",
      "No data for Leiden University concerning total student\n",
      "No data for Leiden University concerning total inter\n",
      "No data for Uppsala University concerning total faculty\n",
      "No data for Uppsala University concerning inter faculty\n",
      "No data for Uppsala University concerning total student\n",
      "No data for Uppsala University concerning total inter\n",
      "No data for University of Groningen concerning total faculty\n",
      "No data for University of Groningen concerning inter faculty\n",
      "No data for University of Groningen concerning total student\n",
      "No data for University of Groningen concerning total inter\n",
      "No data for Universiti Malaya (UM) concerning total faculty\n",
      "No data for Universiti Malaya (UM) concerning inter faculty\n",
      "No data for Universiti Malaya (UM) concerning total student\n",
      "No data for Universiti Malaya (UM) concerning total inter\n",
      "No data for Nanjing University concerning total faculty\n",
      "No data for Nanjing University concerning inter faculty\n",
      "No data for Nanjing University concerning total student\n",
      "No data for Nanjing University concerning total inter\n",
      "No data for Technical University of Denmark concerning total faculty\n",
      "No data for Technical University of Denmark concerning inter faculty\n",
      "No data for Technical University of Denmark concerning total student\n",
      "No data for Technical University of Denmark concerning total inter\n",
      "No data for Nagoya University concerning total faculty\n",
      "No data for Nagoya University concerning inter faculty\n",
      "No data for Nagoya University concerning total student\n",
      "No data for Nagoya University concerning total inter\n",
      "No data for University of California, Davis concerning total faculty\n",
      "No data for University of California, Davis concerning inter faculty\n",
      "No data for University of California, Davis concerning total student\n",
      "No data for University of California, Davis concerning total inter\n",
      "No data for Aarhus University concerning total faculty\n",
      "No data for Aarhus University concerning inter faculty\n",
      "No data for Aarhus University concerning total student\n",
      "No data for Aarhus University concerning total inter\n",
      "No data for Humboldt-Universität zu Berlin concerning total faculty\n",
      "No data for Humboldt-Universität zu Berlin concerning inter faculty\n",
      "No data for Humboldt-Universität zu Berlin concerning total student\n",
      "No data for Humboldt-Universität zu Berlin concerning total inter\n",
      "No data for Universidade de São Paulo concerning total faculty\n",
      "No data for Universidade de São Paulo concerning inter faculty\n",
      "No data for Universidade de São Paulo concerning total student\n",
      "No data for Universidade de São Paulo concerning total inter\n",
      "No data for Hokkaido University concerning total faculty\n",
      "No data for Hokkaido University concerning inter faculty\n",
      "No data for Hokkaido University concerning total student\n",
      "No data for Hokkaido University concerning total inter\n",
      "No data for Universidad Nacional Autónoma de México  (UNAM) concerning total faculty\n",
      "No data for Universidad Nacional Autónoma de México  (UNAM) concerning inter faculty\n",
      "No data for Universidad Nacional Autónoma de México  (UNAM) concerning total student\n",
      "No data for Universidad Nacional Autónoma de México  (UNAM) concerning total inter\n",
      "No data for Wageningen University concerning total faculty\n",
      "No data for Wageningen University concerning inter faculty\n",
      "No data for Wageningen University concerning total student\n",
      "No data for Wageningen University concerning total inter\n",
      "No data for Freie Universitaet Berlin concerning total faculty\n",
      "No data for Freie Universitaet Berlin concerning inter faculty\n",
      "No data for Freie Universitaet Berlin concerning total student\n",
      "No data for Freie Universitaet Berlin concerning total inter\n",
      "No data for Ghent University concerning total faculty\n",
      "No data for Ghent University concerning inter faculty\n",
      "No data for Ghent University concerning total student\n",
      "No data for Ghent University concerning total inter\n",
      "No data for Queen Mary University of London concerning total faculty\n",
      "No data for Queen Mary University of London concerning inter faculty\n",
      "No data for Queen Mary University of London concerning total student\n",
      "No data for Queen Mary University of London concerning total inter\n",
      "No data for Kyushu University concerning total faculty\n",
      "No data for Kyushu University concerning inter faculty\n",
      "No data for Kyushu University concerning total student\n",
      "No data for Kyushu University concerning total inter\n"
     ]
    },
    {
     "name": "stdout",
     "output_type": "stream",
     "text": [
      "No data for University of Maryland, College Park concerning total faculty\n",
      "No data for University of Maryland, College Park concerning inter faculty\n",
      "No data for University of Maryland, College Park concerning total student\n",
      "No data for University of Maryland, College Park concerning total inter\n",
      "No data for Université de Montréal concerning total faculty\n",
      "No data for Université de Montréal concerning inter faculty\n",
      "No data for Université de Montréal concerning total student\n",
      "No data for Université de Montréal concerning total inter\n",
      "No data for Université Pierre et Marie Curie (UPMC) concerning total faculty\n",
      "No data for Université Pierre et Marie Curie (UPMC) concerning inter faculty\n",
      "No data for Université Pierre et Marie Curie (UPMC) concerning total student\n",
      "No data for Université Pierre et Marie Curie (UPMC) concerning total inter\n",
      "No data for University of Southern California concerning total faculty\n",
      "No data for University of Southern California concerning inter faculty\n",
      "No data for University of Southern California concerning total student\n",
      "No data for University of Southern California concerning total inter\n",
      "No data for Chalmers University of Technology concerning total faculty\n",
      "No data for Chalmers University of Technology concerning inter faculty\n",
      "No data for Chalmers University of Technology concerning total student\n",
      "No data for Chalmers University of Technology concerning total inter\n",
      "No data for University of California, Santa Barbara (UCSB) concerning total faculty\n",
      "No data for University of California, Santa Barbara (UCSB) concerning inter faculty\n",
      "No data for University of California, Santa Barbara (UCSB) concerning total student\n",
      "No data for University of California, Santa Barbara (UCSB) concerning total inter\n",
      "No data for University of York concerning total faculty\n",
      "No data for University of York concerning inter faculty\n",
      "No data for University of York concerning total student\n",
      "No data for University of York concerning total inter\n",
      "No data for Lancaster University concerning total faculty\n",
      "No data for Lancaster University concerning inter faculty\n",
      "No data for Lancaster University concerning total student\n",
      "No data for Lancaster University concerning total inter\n",
      "No data for Pontificia Universidad Católica de Chile (UC) concerning total faculty\n",
      "No data for Pontificia Universidad Católica de Chile (UC) concerning inter faculty\n",
      "No data for Pontificia Universidad Católica de Chile (UC) concerning total student\n",
      "No data for Pontificia Universidad Católica de Chile (UC) concerning total inter\n",
      "No data for Aalto University concerning total faculty\n",
      "No data for Aalto University concerning inter faculty\n",
      "No data for Aalto University concerning total student\n",
      "No data for Aalto University concerning total inter\n",
      "No data for Cardiff University concerning total faculty\n",
      "No data for Cardiff University concerning inter faculty\n",
      "No data for Cardiff University concerning total student\n",
      "No data for Cardiff University concerning total inter\n",
      "No data for McMaster University concerning total faculty\n",
      "No data for McMaster University concerning inter faculty\n",
      "No data for McMaster University concerning total student\n",
      "No data for McMaster University concerning total inter\n",
      "No data for RWTH Aachen University concerning total faculty\n",
      "No data for RWTH Aachen University concerning inter faculty\n",
      "No data for RWTH Aachen University concerning total student\n",
      "No data for RWTH Aachen University concerning total inter\n",
      "No data for University of Oslo concerning total faculty\n",
      "No data for University of Oslo concerning inter faculty\n",
      "No data for University of Oslo concerning total student\n",
      "No data for University of Oslo concerning total inter\n",
      "No data for University of Pittsburgh concerning total faculty\n",
      "No data for University of Pittsburgh concerning inter faculty\n",
      "No data for University of Pittsburgh concerning total student\n",
      "No data for University of Pittsburgh concerning total inter\n",
      "No data for Technische Universität Berlin (TU Berlin) concerning total faculty\n",
      "No data for Technische Universität Berlin (TU Berlin) concerning inter faculty\n",
      "No data for Technische Universität Berlin (TU Berlin) concerning total student\n",
      "No data for Technische Universität Berlin (TU Berlin) concerning total inter\n",
      "No data for The Hebrew University of Jerusalem concerning total faculty\n",
      "No data for The Hebrew University of Jerusalem concerning inter faculty\n",
      "No data for The Hebrew University of Jerusalem concerning total student\n",
      "No data for The Hebrew University of Jerusalem concerning total inter\n",
      "No data for University of Lausanne concerning total faculty\n",
      "No data for University of Lausanne concerning inter faculty\n",
      "No data for University of Lausanne concerning total student\n",
      "No data for University of Lausanne concerning total inter\n",
      "No data for Emory University concerning total faculty\n",
      "No data for Emory University concerning inter faculty\n",
      "No data for Emory University concerning total student\n",
      "No data for Emory University concerning total inter\n",
      "No data for Erasmus University Rotterdam concerning total faculty\n",
      "No data for Erasmus University Rotterdam concerning inter faculty\n",
      "No data for Erasmus University Rotterdam concerning total student\n",
      "No data for Erasmus University Rotterdam concerning total inter\n",
      "No data for Michigan State University concerning total faculty\n",
      "No data for Michigan State University concerning inter faculty\n",
      "No data for Michigan State University concerning total student\n",
      "No data for Michigan State University concerning total inter\n",
      "No data for University of Basel concerning total faculty\n",
      "No data for University of Basel concerning inter faculty\n",
      "No data for University of Basel concerning total student\n",
      "No data for University of Basel concerning total inter\n",
      "No data for University of Otago concerning total faculty\n",
      "No data for University of Otago concerning inter faculty\n",
      "No data for University of Otago concerning total student\n",
      "No data for University of Otago concerning total inter\n",
      "No data for University of Waterloo concerning total faculty\n",
      "No data for University of Waterloo concerning inter faculty\n",
      "No data for University of Waterloo concerning total student\n",
      "No data for University of Waterloo concerning total inter\n",
      "No data for Université catholique de Louvain (UCL) concerning total faculty\n",
      "No data for Université catholique de Louvain (UCL) concerning inter faculty\n",
      "No data for Université catholique de Louvain (UCL) concerning total student\n",
      "No data for Université catholique de Louvain (UCL) concerning total inter\n",
      "No data for University of Vienna concerning total faculty\n",
      "No data for University of Vienna concerning inter faculty\n",
      "No data for University of Vienna concerning total student\n",
      "No data for University of Vienna concerning total inter\n",
      "No data for Hanyang University concerning total faculty\n",
      "No data for Hanyang University concerning inter faculty\n",
      "No data for Hanyang University concerning total student\n",
      "No data for Hanyang University concerning total inter\n",
      "No data for Universitat de Barcelona concerning total faculty\n",
      "No data for Universitat de Barcelona concerning inter faculty\n",
      "No data for Universitat de Barcelona concerning total student\n",
      "No data for Universitat de Barcelona concerning total inter\n",
      "No data for École Normale Supérieure de Lyon concerning total faculty\n",
      "No data for École Normale Supérieure de Lyon concerning inter faculty\n",
      "No data for École Normale Supérieure de Lyon concerning total student\n",
      "No data for École Normale Supérieure de Lyon concerning total inter\n",
      "No data for The University of Exeter concerning total faculty\n",
      "No data for The University of Exeter concerning inter faculty\n",
      "No data for The University of Exeter concerning total student\n",
      "No data for The University of Exeter concerning total inter\n",
      "No data for University of Aberdeen concerning total faculty\n",
      "No data for University of Aberdeen concerning inter faculty\n",
      "No data for University of Aberdeen concerning total student\n",
      "No data for University of Aberdeen concerning total inter\n",
      "No data for University of Bath concerning total faculty\n",
      "No data for University of Bath concerning inter faculty\n",
      "No data for University of Bath concerning total student\n",
      "No data for University of Bath concerning total inter\n",
      "No data for National Tsing Hua University concerning total faculty\n",
      "No data for National Tsing Hua University concerning inter faculty\n",
      "No data for National Tsing Hua University concerning total student\n",
      "No data for National Tsing Hua University concerning total inter\n"
     ]
    },
    {
     "name": "stdout",
     "output_type": "stream",
     "text": [
      "No data for Newcastle University concerning total faculty\n",
      "No data for Newcastle University concerning inter faculty\n",
      "No data for Newcastle University concerning total student\n",
      "No data for Newcastle University concerning total inter\n",
      "No data for University of Minnesota concerning total faculty\n",
      "No data for University of Minnesota concerning inter faculty\n",
      "No data for University of Minnesota concerning total student\n",
      "No data for University of Minnesota concerning total inter\n",
      "No data for University of California, Irvine concerning total faculty\n",
      "No data for University of California, Irvine concerning inter faculty\n",
      "No data for University of California, Irvine concerning total student\n",
      "No data for University of California, Irvine concerning total inter\n",
      "No data for Eberhard Karls Universität Tübingen concerning total faculty\n",
      "No data for Eberhard Karls Universität Tübingen concerning inter faculty\n",
      "No data for Eberhard Karls Universität Tübingen concerning total student\n",
      "No data for Eberhard Karls Universität Tübingen concerning total inter\n",
      "No data for University of Bergen concerning total faculty\n",
      "No data for University of Bergen concerning inter faculty\n",
      "No data for University of Bergen concerning total student\n",
      "No data for University of Bergen concerning total inter\n",
      "No data for University of Bern concerning total faculty\n",
      "No data for University of Bern concerning inter faculty\n",
      "No data for University of Bern concerning total student\n",
      "No data for University of Bern concerning total inter\n",
      "No data for University College Dublin concerning total faculty\n",
      "No data for University College Dublin concerning inter faculty\n",
      "No data for University College Dublin concerning total student\n",
      "No data for University College Dublin concerning total inter\n",
      "No data for Dartmouth College concerning total faculty\n",
      "No data for Dartmouth College concerning inter faculty\n",
      "No data for Dartmouth College concerning total student\n",
      "No data for Dartmouth College concerning total inter\n",
      "No data for Politecnico di Milano concerning total faculty\n",
      "No data for Politecnico di Milano concerning inter faculty\n",
      "No data for Politecnico di Milano concerning total student\n",
      "No data for Politecnico di Milano concerning total inter\n",
      "No data for Albert-Ludwigs-Universitaet Freiburg concerning total faculty\n",
      "No data for Albert-Ludwigs-Universitaet Freiburg concerning inter faculty\n",
      "No data for Albert-Ludwigs-Universitaet Freiburg concerning total student\n",
      "No data for Albert-Ludwigs-Universitaet Freiburg concerning total inter\n",
      "No data for Indian Institute of Technology Delhi (IITD) concerning total faculty\n",
      "No data for Indian Institute of Technology Delhi (IITD) concerning inter faculty\n",
      "No data for Indian Institute of Technology Delhi (IITD) concerning total student\n",
      "No data for Indian Institute of Technology Delhi (IITD) concerning total inter\n",
      "No data for King Fahd University of Petroleum & Minerals concerning total faculty\n",
      "No data for King Fahd University of Petroleum & Minerals concerning inter faculty\n",
      "No data for King Fahd University of Petroleum & Minerals concerning total student\n",
      "No data for King Fahd University of Petroleum & Minerals concerning total inter\n",
      "No data for University of Liverpool concerning total faculty\n",
      "No data for University of Liverpool concerning inter faculty\n",
      "No data for University of Liverpool concerning total student\n",
      "No data for University of Liverpool concerning total inter\n",
      "No data for University of Virginia concerning total faculty\n",
      "No data for University of Virginia concerning inter faculty\n",
      "No data for University of Virginia concerning total student\n",
      "No data for University of Virginia concerning total inter\n",
      "No data for University of Technology Sydney concerning total faculty\n",
      "No data for University of Technology Sydney concerning inter faculty\n",
      "No data for University of Technology Sydney concerning total student\n",
      "No data for University of Technology Sydney concerning total inter\n",
      "No data for CentraleSupélec concerning total faculty\n",
      "No data for CentraleSupélec concerning inter faculty\n",
      "No data for CentraleSupélec concerning total student\n",
      "No data for CentraleSupélec concerning total inter\n",
      "No data for University of Florida concerning total faculty\n",
      "No data for University of Florida concerning inter faculty\n",
      "No data for University of Florida concerning total student\n",
      "No data for University of Florida concerning total inter\n",
      "No data for Indian Institute of Technology Bombay (IITB) concerning total faculty\n",
      "No data for Indian Institute of Technology Bombay (IITB) concerning inter faculty\n",
      "No data for Indian Institute of Technology Bombay (IITB) concerning total student\n",
      "No data for Indian Institute of Technology Bombay (IITB) concerning total inter\n",
      "No data for University of Twente concerning total faculty\n",
      "No data for University of Twente concerning inter faculty\n",
      "No data for University of Twente concerning total student\n",
      "No data for University of Twente concerning total inter\n",
      "No data for University of Göttingen concerning total faculty\n",
      "No data for University of Göttingen concerning inter faculty\n",
      "No data for University of Göttingen concerning total student\n",
      "No data for University of Göttingen concerning total inter\n",
      "No data for Universidade Estadual de Campinas (Unicamp) concerning total faculty\n",
      "No data for Universidade Estadual de Campinas (Unicamp) concerning inter faculty\n",
      "No data for Universidade Estadual de Campinas (Unicamp) concerning total student\n",
      "No data for Universidade Estadual de Campinas (Unicamp) concerning total inter\n",
      "No data for University of Colorado Boulder concerning total faculty\n",
      "No data for University of Colorado Boulder concerning inter faculty\n",
      "No data for University of Colorado Boulder concerning total student\n",
      "No data for University of Colorado Boulder concerning total inter\n",
      "No data for Vienna University of Technology concerning total faculty\n",
      "No data for Vienna University of Technology concerning inter faculty\n",
      "No data for Vienna University of Technology concerning total student\n",
      "No data for Vienna University of Technology concerning total inter\n",
      "No data for Vrije Universiteit Brussel (VUB) concerning total faculty\n",
      "No data for Vrije Universiteit Brussel (VUB) concerning inter faculty\n",
      "No data for Vrije Universiteit Brussel (VUB) concerning total student\n",
      "No data for Vrije Universiteit Brussel (VUB) concerning total inter\n",
      "No data for University of Rochester concerning total faculty\n",
      "No data for University of Rochester concerning inter faculty\n",
      "No data for University of Rochester concerning total student\n",
      "No data for University of Rochester concerning total inter\n",
      "No data for Universidad Autónoma de Madrid concerning total faculty\n",
      "No data for Universidad Autónoma de Madrid concerning inter faculty\n",
      "No data for Universidad Autónoma de Madrid concerning total student\n",
      "No data for Universidad Autónoma de Madrid concerning total inter\n",
      "No data for Alma Mater Studiorum - University of Bologna concerning total faculty\n",
      "No data for Alma Mater Studiorum - University of Bologna concerning inter faculty\n",
      "No data for Alma Mater Studiorum - University of Bologna concerning total student\n",
      "No data for Alma Mater Studiorum - University of Bologna concerning total inter\n",
      "No data for University of Reading concerning total faculty\n",
      "No data for University of Reading concerning inter faculty\n",
      "No data for University of Reading concerning total student\n",
      "No data for University of Reading concerning total inter\n",
      "No data for Indian Institute of Science concerning total faculty\n",
      "No data for Indian Institute of Science concerning inter faculty\n",
      "No data for Indian Institute of Science concerning total student\n",
      "No data for Indian Institute of Science concerning total inter\n",
      "No data for University of Cape Town concerning total faculty\n",
      "No data for University of Cape Town concerning inter faculty\n",
      "No data for University of Cape Town concerning total student\n",
      "No data for University of Cape Town concerning total inter\n",
      "No data for Scuola Normale Superiore di Pisa concerning total faculty\n",
      "No data for Scuola Normale Superiore di Pisa concerning inter faculty\n",
      "No data for Scuola Normale Superiore di Pisa concerning total student\n",
      "No data for Scuola Normale Superiore di Pisa concerning total inter\n",
      "No data for Scuola Superiore Sant'Anna Pisa di Studi Universitari e di Perfezionamento concerning total faculty\n",
      "No data for Scuola Superiore Sant'Anna Pisa di Studi Universitari e di Perfezionamento concerning inter faculty\n",
      "No data for Scuola Superiore Sant'Anna Pisa di Studi Universitari e di Perfezionamento concerning total student\n",
      "No data for Scuola Superiore Sant'Anna Pisa di Studi Universitari e di Perfezionamento concerning total inter\n"
     ]
    },
    {
     "name": "stdout",
     "output_type": "stream",
     "text": [
      "No data for Keio University concerning total faculty\n",
      "No data for Keio University concerning inter faculty\n",
      "No data for Keio University concerning total student\n",
      "No data for Keio University concerning total inter\n",
      "No data for Stockholm University concerning total faculty\n",
      "No data for Stockholm University concerning inter faculty\n",
      "No data for Stockholm University concerning total student\n",
      "No data for Stockholm University concerning total inter\n",
      "No data for Universitat Autònoma de Barcelona concerning total faculty\n",
      "No data for Universitat Autònoma de Barcelona concerning inter faculty\n",
      "No data for Universitat Autònoma de Barcelona concerning total student\n",
      "No data for Universitat Autònoma de Barcelona concerning total inter\n",
      "No data for Technische Universität Dresden concerning total faculty\n",
      "No data for Technische Universität Dresden concerning inter faculty\n",
      "No data for Technische Universität Dresden concerning total student\n",
      "No data for Technische Universität Dresden concerning total inter\n",
      "No data for Texas A&M University concerning total faculty\n",
      "No data for Texas A&M University concerning inter faculty\n",
      "No data for Texas A&M University concerning total student\n",
      "No data for Texas A&M University concerning total inter\n",
      "No data for Instituto Tecnológico y de Estudios Superiores de Monterrey concerning total faculty\n",
      "No data for Instituto Tecnológico y de Estudios Superiores de Monterrey concerning inter faculty\n",
      "No data for Instituto Tecnológico y de Estudios Superiores de Monterrey concerning total student\n",
      "No data for Instituto Tecnológico y de Estudios Superiores de Monterrey concerning total inter\n",
      "No data for Maastricht University concerning total faculty\n",
      "No data for Maastricht University concerning inter faculty\n",
      "No data for Maastricht University concerning total student\n",
      "No data for Maastricht University concerning total inter\n"
     ]
    }
   ],
   "source": [
    "for idx in qs_df.index:\n",
    "#for idx in range(30,200): # you can uncomment this to only parse the first few universities\n",
    "    page = requests.get(qs_url + qs_df.loc[idx]['url']) # GET the page for one university\n",
    "    soup = BeautifulSoup(page.text, 'html.parser') # parse it with bs4\n",
    "\n",
    "    for column in columns_to_add:\n",
    "        try:\n",
    "            wrapper = soup.find_all('div', class_=column) # find the tag of interest\n",
    "            if not wrapper:\n",
    "                print('No data for', qs_df.loc[idx]['title'], 'concerning', column)\n",
    "            values = np.zeros(len(wrapper))\n",
    "            for i in range(0,len(wrapper)): # if there are several tags, we'll check they have the same values\n",
    "                values[i] = xtract_number(wrapper[0].find('div', class_='number').string)\n",
    "                if i>0 and values[i] != values[i-1]:\n",
    "                   raise Exception('Numerical values for', qs_df.loc[idx]['title'], 'are different throughout the HTML') \n",
    "                else:\n",
    "                    qs_df.loc[idx][column] = values[0]\n",
    "            \n",
    "        except IndexError:\n",
    "            print('No data for', qs_df.loc[idx]['title'], 'concerning', column)"
   ]
  },
  {
   "cell_type": "markdown",
   "metadata": {},
   "source": [
    "Furthermore, we can see that some data is missing for New York University and the Indian Institute of Science.\n",
    "Going to the website and checking this by hand does indeed show that these pieces of information are missing. We'll therefore leave these as NaN to signify the missing data."
   ]
  },
  {
   "cell_type": "markdown",
   "metadata": {},
   "source": [
    "Given the time to GET and parse all this HTML, we've stored the `DataFrame` in a pickle for convenience:"
   ]
  },
  {
   "cell_type": "code",
   "execution_count": 12,
   "metadata": {
    "collapsed": true
   },
   "outputs": [],
   "source": [
    "pickle.dump( qs_df, open( \"qs_dataframe.p\", \"wb\" ) )\n",
    "qs_df = pickle.load( open( \"qs_dataframe.p\", \"rb\" ) )"
   ]
  },
  {
   "cell_type": "code",
   "execution_count": 14,
   "metadata": {},
   "outputs": [
    {
     "data": {
      "text/html": [
       "<div>\n",
       "<style>\n",
       "    .dataframe thead tr:only-child th {\n",
       "        text-align: right;\n",
       "    }\n",
       "\n",
       "    .dataframe thead th {\n",
       "        text-align: left;\n",
       "    }\n",
       "\n",
       "    .dataframe tbody tr th {\n",
       "        vertical-align: top;\n",
       "    }\n",
       "</style>\n",
       "<table border=\"1\" class=\"dataframe\">\n",
       "  <thead>\n",
       "    <tr style=\"text-align: right;\">\n",
       "      <th></th>\n",
       "      <th>core_id</th>\n",
       "      <th>country</th>\n",
       "      <th>guide</th>\n",
       "      <th>logo</th>\n",
       "      <th>nid</th>\n",
       "      <th>rank_display</th>\n",
       "      <th>region</th>\n",
       "      <th>score</th>\n",
       "      <th>stars</th>\n",
       "      <th>title</th>\n",
       "      <th>url</th>\n",
       "      <th>total faculty</th>\n",
       "      <th>inter faculty</th>\n",
       "      <th>total student</th>\n",
       "      <th>total inter</th>\n",
       "    </tr>\n",
       "  </thead>\n",
       "  <tbody>\n",
       "    <tr>\n",
       "      <th>0</th>\n",
       "      <td>410</td>\n",
       "      <td>United States</td>\n",
       "      <td>&lt;a href=\"/where-to-study/north-america/united-...</td>\n",
       "      <td>&lt;img src=\"https://www.topuniversities.com/site...</td>\n",
       "      <td>294850</td>\n",
       "      <td>1</td>\n",
       "      <td>North America</td>\n",
       "      <td>100</td>\n",
       "      <td></td>\n",
       "      <td>Massachusetts Institute of Technology (MIT)</td>\n",
       "      <td>/universities/massachusetts-institute-technolo...</td>\n",
       "      <td>NaN</td>\n",
       "      <td>NaN</td>\n",
       "      <td>NaN</td>\n",
       "      <td>NaN</td>\n",
       "    </tr>\n",
       "    <tr>\n",
       "      <th>1</th>\n",
       "      <td>573</td>\n",
       "      <td>United States</td>\n",
       "      <td>&lt;a href=\"/where-to-study/north-america/united-...</td>\n",
       "      <td>&lt;img src=\"https://www.topuniversities.com/site...</td>\n",
       "      <td>297282</td>\n",
       "      <td>2</td>\n",
       "      <td>North America</td>\n",
       "      <td>98.7</td>\n",
       "      <td></td>\n",
       "      <td>Stanford University</td>\n",
       "      <td>/universities/stanford-university</td>\n",
       "      <td>NaN</td>\n",
       "      <td>NaN</td>\n",
       "      <td>NaN</td>\n",
       "      <td>NaN</td>\n",
       "    </tr>\n",
       "    <tr>\n",
       "      <th>2</th>\n",
       "      <td>253</td>\n",
       "      <td>United States</td>\n",
       "      <td>&lt;a href=\"/where-to-study/north-america/united-...</td>\n",
       "      <td>&lt;img src=\"https://www.topuniversities.com/site...</td>\n",
       "      <td>294270</td>\n",
       "      <td>3</td>\n",
       "      <td>North America</td>\n",
       "      <td>98.4</td>\n",
       "      <td></td>\n",
       "      <td>Harvard University</td>\n",
       "      <td>/universities/harvard-university</td>\n",
       "      <td>NaN</td>\n",
       "      <td>NaN</td>\n",
       "      <td>NaN</td>\n",
       "      <td>NaN</td>\n",
       "    </tr>\n",
       "    <tr>\n",
       "      <th>3</th>\n",
       "      <td>94</td>\n",
       "      <td>United States</td>\n",
       "      <td>&lt;a href=\"/where-to-study/north-america/united-...</td>\n",
       "      <td>&lt;img src=\"https://www.topuniversities.com/site...</td>\n",
       "      <td>294562</td>\n",
       "      <td>4</td>\n",
       "      <td>North America</td>\n",
       "      <td>97.7</td>\n",
       "      <td></td>\n",
       "      <td>California Institute of Technology (Caltech)</td>\n",
       "      <td>/universities/california-institute-technology-...</td>\n",
       "      <td>NaN</td>\n",
       "      <td>NaN</td>\n",
       "      <td>NaN</td>\n",
       "      <td>NaN</td>\n",
       "    </tr>\n",
       "    <tr>\n",
       "      <th>4</th>\n",
       "      <td>95</td>\n",
       "      <td>United Kingdom</td>\n",
       "      <td>&lt;a href=\"/where-to-study/europe/united-kingdom...</td>\n",
       "      <td>&lt;img src=\"https://www.topuniversities.com/site...</td>\n",
       "      <td>294561</td>\n",
       "      <td>5</td>\n",
       "      <td>Europe</td>\n",
       "      <td>95.6</td>\n",
       "      <td></td>\n",
       "      <td>University of Cambridge</td>\n",
       "      <td>/universities/university-cambridge</td>\n",
       "      <td>NaN</td>\n",
       "      <td>NaN</td>\n",
       "      <td>NaN</td>\n",
       "      <td>NaN</td>\n",
       "    </tr>\n",
       "  </tbody>\n",
       "</table>\n",
       "</div>"
      ],
      "text/plain": [
       "  core_id         country                                              guide  \\\n",
       "0     410   United States  <a href=\"/where-to-study/north-america/united-...   \n",
       "1     573   United States  <a href=\"/where-to-study/north-america/united-...   \n",
       "2     253   United States  <a href=\"/where-to-study/north-america/united-...   \n",
       "3      94   United States  <a href=\"/where-to-study/north-america/united-...   \n",
       "4      95  United Kingdom  <a href=\"/where-to-study/europe/united-kingdom...   \n",
       "\n",
       "                                                logo     nid rank_display  \\\n",
       "0  <img src=\"https://www.topuniversities.com/site...  294850            1   \n",
       "1  <img src=\"https://www.topuniversities.com/site...  297282            2   \n",
       "2  <img src=\"https://www.topuniversities.com/site...  294270            3   \n",
       "3  <img src=\"https://www.topuniversities.com/site...  294562            4   \n",
       "4  <img src=\"https://www.topuniversities.com/site...  294561            5   \n",
       "\n",
       "          region score stars                                         title  \\\n",
       "0  North America   100         Massachusetts Institute of Technology (MIT)   \n",
       "1  North America  98.7                                 Stanford University   \n",
       "2  North America  98.4                                  Harvard University   \n",
       "3  North America  97.7        California Institute of Technology (Caltech)   \n",
       "4         Europe  95.6                             University of Cambridge   \n",
       "\n",
       "                                                 url total faculty  \\\n",
       "0  /universities/massachusetts-institute-technolo...           NaN   \n",
       "1                  /universities/stanford-university           NaN   \n",
       "2                   /universities/harvard-university           NaN   \n",
       "3  /universities/california-institute-technology-...           NaN   \n",
       "4                 /universities/university-cambridge           NaN   \n",
       "\n",
       "  inter faculty total student total inter  \n",
       "0           NaN           NaN         NaN  \n",
       "1           NaN           NaN         NaN  \n",
       "2           NaN           NaN         NaN  \n",
       "3           NaN           NaN         NaN  \n",
       "4           NaN           NaN         NaN  "
      ]
     },
     "execution_count": 14,
     "metadata": {},
     "output_type": "execute_result"
    }
   ],
   "source": [
    "qs_df.head()"
   ]
  },
  {
   "cell_type": "markdown",
   "metadata": {},
   "source": [
    "Let's drop some of the extra columns that we don't really need, they're still in the pickle if we need them later. We'll also change the columns to floats for our calculations."
   ]
  },
  {
   "cell_type": "code",
   "execution_count": 15,
   "metadata": {},
   "outputs": [],
   "source": [
    "qs_df.drop(['core_id', 'guide', 'logo', 'nid', 'url', 'score', 'stars'], axis=1, inplace=True)\n",
    "qs_df.rank_display = qs_df.rank_display.str.replace('=','')\n",
    "qs_df.rename(columns={'title':'name'}, inplace=True) # to merge on a column they need the same name in both dfs"
   ]
  },
  {
   "cell_type": "code",
   "execution_count": 16,
   "metadata": {
    "collapsed": true
   },
   "outputs": [],
   "source": [
    "int_cols = ['rank_display', 'total faculty', 'inter faculty', 'total student', 'total inter']\n",
    "for col in int_cols:\n",
    "    qs_df.loc[:,col] = qs_df.loc[:,col].astype(float)"
   ]
  },
  {
   "cell_type": "markdown",
   "metadata": {},
   "source": [
    "## Which are the best universities?\n",
    "\n",
    "We are now going to compare the best universities in terms of ratio between faculty members: students and % of international students. Let's add these columns, they are merely operations involving the other columns"
   ]
  },
  {
   "cell_type": "code",
   "execution_count": 17,
   "metadata": {
    "collapsed": true
   },
   "outputs": [],
   "source": [
    "qs_df['faculty:students ratio'] = qs_df['total faculty']/qs_df['total student']\n",
    "qs_df['% international students'] = 100*qs_df['total inter']/qs_df['total student']"
   ]
  },
  {
   "cell_type": "code",
   "execution_count": 18,
   "metadata": {},
   "outputs": [
    {
     "data": {
      "text/html": [
       "<div>\n",
       "<style>\n",
       "    .dataframe thead tr:only-child th {\n",
       "        text-align: right;\n",
       "    }\n",
       "\n",
       "    .dataframe thead th {\n",
       "        text-align: left;\n",
       "    }\n",
       "\n",
       "    .dataframe tbody tr th {\n",
       "        vertical-align: top;\n",
       "    }\n",
       "</style>\n",
       "<table border=\"1\" class=\"dataframe\">\n",
       "  <thead>\n",
       "    <tr style=\"text-align: right;\">\n",
       "      <th></th>\n",
       "      <th>country</th>\n",
       "      <th>rank_display</th>\n",
       "      <th>region</th>\n",
       "      <th>name</th>\n",
       "      <th>total faculty</th>\n",
       "      <th>inter faculty</th>\n",
       "      <th>total student</th>\n",
       "      <th>total inter</th>\n",
       "      <th>faculty:students ratio</th>\n",
       "      <th>% international students</th>\n",
       "    </tr>\n",
       "  </thead>\n",
       "  <tbody>\n",
       "    <tr>\n",
       "      <th>0</th>\n",
       "      <td>United States</td>\n",
       "      <td>1.0</td>\n",
       "      <td>North America</td>\n",
       "      <td>Massachusetts Institute of Technology (MIT)</td>\n",
       "      <td>NaN</td>\n",
       "      <td>NaN</td>\n",
       "      <td>NaN</td>\n",
       "      <td>NaN</td>\n",
       "      <td>NaN</td>\n",
       "      <td>NaN</td>\n",
       "    </tr>\n",
       "    <tr>\n",
       "      <th>1</th>\n",
       "      <td>United States</td>\n",
       "      <td>2.0</td>\n",
       "      <td>North America</td>\n",
       "      <td>Stanford University</td>\n",
       "      <td>NaN</td>\n",
       "      <td>NaN</td>\n",
       "      <td>NaN</td>\n",
       "      <td>NaN</td>\n",
       "      <td>NaN</td>\n",
       "      <td>NaN</td>\n",
       "    </tr>\n",
       "    <tr>\n",
       "      <th>2</th>\n",
       "      <td>United States</td>\n",
       "      <td>3.0</td>\n",
       "      <td>North America</td>\n",
       "      <td>Harvard University</td>\n",
       "      <td>NaN</td>\n",
       "      <td>NaN</td>\n",
       "      <td>NaN</td>\n",
       "      <td>NaN</td>\n",
       "      <td>NaN</td>\n",
       "      <td>NaN</td>\n",
       "    </tr>\n",
       "    <tr>\n",
       "      <th>3</th>\n",
       "      <td>United States</td>\n",
       "      <td>4.0</td>\n",
       "      <td>North America</td>\n",
       "      <td>California Institute of Technology (Caltech)</td>\n",
       "      <td>NaN</td>\n",
       "      <td>NaN</td>\n",
       "      <td>NaN</td>\n",
       "      <td>NaN</td>\n",
       "      <td>NaN</td>\n",
       "      <td>NaN</td>\n",
       "    </tr>\n",
       "    <tr>\n",
       "      <th>4</th>\n",
       "      <td>United Kingdom</td>\n",
       "      <td>5.0</td>\n",
       "      <td>Europe</td>\n",
       "      <td>University of Cambridge</td>\n",
       "      <td>NaN</td>\n",
       "      <td>NaN</td>\n",
       "      <td>NaN</td>\n",
       "      <td>NaN</td>\n",
       "      <td>NaN</td>\n",
       "      <td>NaN</td>\n",
       "    </tr>\n",
       "  </tbody>\n",
       "</table>\n",
       "</div>"
      ],
      "text/plain": [
       "          country  rank_display         region  \\\n",
       "0   United States           1.0  North America   \n",
       "1   United States           2.0  North America   \n",
       "2   United States           3.0  North America   \n",
       "3   United States           4.0  North America   \n",
       "4  United Kingdom           5.0         Europe   \n",
       "\n",
       "                                           name  total faculty  inter faculty  \\\n",
       "0   Massachusetts Institute of Technology (MIT)            NaN            NaN   \n",
       "1                           Stanford University            NaN            NaN   \n",
       "2                            Harvard University            NaN            NaN   \n",
       "3  California Institute of Technology (Caltech)            NaN            NaN   \n",
       "4                       University of Cambridge            NaN            NaN   \n",
       "\n",
       "   total student  total inter  faculty:students ratio  \\\n",
       "0            NaN          NaN                     NaN   \n",
       "1            NaN          NaN                     NaN   \n",
       "2            NaN          NaN                     NaN   \n",
       "3            NaN          NaN                     NaN   \n",
       "4            NaN          NaN                     NaN   \n",
       "\n",
       "   % international students  \n",
       "0                       NaN  \n",
       "1                       NaN  \n",
       "2                       NaN  \n",
       "3                       NaN  \n",
       "4                       NaN  "
      ]
     },
     "execution_count": 18,
     "metadata": {},
     "output_type": "execute_result"
    }
   ],
   "source": [
    "qs_df.sort_values('faculty:students ratio' , ascending=False).head()"
   ]
  },
  {
   "cell_type": "code",
   "execution_count": 19,
   "metadata": {},
   "outputs": [
    {
     "data": {
      "text/html": [
       "<div>\n",
       "<style>\n",
       "    .dataframe thead tr:only-child th {\n",
       "        text-align: right;\n",
       "    }\n",
       "\n",
       "    .dataframe thead th {\n",
       "        text-align: left;\n",
       "    }\n",
       "\n",
       "    .dataframe tbody tr th {\n",
       "        vertical-align: top;\n",
       "    }\n",
       "</style>\n",
       "<table border=\"1\" class=\"dataframe\">\n",
       "  <thead>\n",
       "    <tr style=\"text-align: right;\">\n",
       "      <th></th>\n",
       "      <th>country</th>\n",
       "      <th>rank_display</th>\n",
       "      <th>region</th>\n",
       "      <th>name</th>\n",
       "      <th>total faculty</th>\n",
       "      <th>inter faculty</th>\n",
       "      <th>total student</th>\n",
       "      <th>total inter</th>\n",
       "      <th>faculty:students ratio</th>\n",
       "      <th>% international students</th>\n",
       "    </tr>\n",
       "  </thead>\n",
       "  <tbody>\n",
       "    <tr>\n",
       "      <th>0</th>\n",
       "      <td>United States</td>\n",
       "      <td>1.0</td>\n",
       "      <td>North America</td>\n",
       "      <td>Massachusetts Institute of Technology (MIT)</td>\n",
       "      <td>NaN</td>\n",
       "      <td>NaN</td>\n",
       "      <td>NaN</td>\n",
       "      <td>NaN</td>\n",
       "      <td>NaN</td>\n",
       "      <td>NaN</td>\n",
       "    </tr>\n",
       "    <tr>\n",
       "      <th>1</th>\n",
       "      <td>United States</td>\n",
       "      <td>2.0</td>\n",
       "      <td>North America</td>\n",
       "      <td>Stanford University</td>\n",
       "      <td>NaN</td>\n",
       "      <td>NaN</td>\n",
       "      <td>NaN</td>\n",
       "      <td>NaN</td>\n",
       "      <td>NaN</td>\n",
       "      <td>NaN</td>\n",
       "    </tr>\n",
       "    <tr>\n",
       "      <th>2</th>\n",
       "      <td>United States</td>\n",
       "      <td>3.0</td>\n",
       "      <td>North America</td>\n",
       "      <td>Harvard University</td>\n",
       "      <td>NaN</td>\n",
       "      <td>NaN</td>\n",
       "      <td>NaN</td>\n",
       "      <td>NaN</td>\n",
       "      <td>NaN</td>\n",
       "      <td>NaN</td>\n",
       "    </tr>\n",
       "    <tr>\n",
       "      <th>3</th>\n",
       "      <td>United States</td>\n",
       "      <td>4.0</td>\n",
       "      <td>North America</td>\n",
       "      <td>California Institute of Technology (Caltech)</td>\n",
       "      <td>NaN</td>\n",
       "      <td>NaN</td>\n",
       "      <td>NaN</td>\n",
       "      <td>NaN</td>\n",
       "      <td>NaN</td>\n",
       "      <td>NaN</td>\n",
       "    </tr>\n",
       "    <tr>\n",
       "      <th>4</th>\n",
       "      <td>United Kingdom</td>\n",
       "      <td>5.0</td>\n",
       "      <td>Europe</td>\n",
       "      <td>University of Cambridge</td>\n",
       "      <td>NaN</td>\n",
       "      <td>NaN</td>\n",
       "      <td>NaN</td>\n",
       "      <td>NaN</td>\n",
       "      <td>NaN</td>\n",
       "      <td>NaN</td>\n",
       "    </tr>\n",
       "  </tbody>\n",
       "</table>\n",
       "</div>"
      ],
      "text/plain": [
       "          country  rank_display         region  \\\n",
       "0   United States           1.0  North America   \n",
       "1   United States           2.0  North America   \n",
       "2   United States           3.0  North America   \n",
       "3   United States           4.0  North America   \n",
       "4  United Kingdom           5.0         Europe   \n",
       "\n",
       "                                           name  total faculty  inter faculty  \\\n",
       "0   Massachusetts Institute of Technology (MIT)            NaN            NaN   \n",
       "1                           Stanford University            NaN            NaN   \n",
       "2                            Harvard University            NaN            NaN   \n",
       "3  California Institute of Technology (Caltech)            NaN            NaN   \n",
       "4                       University of Cambridge            NaN            NaN   \n",
       "\n",
       "   total student  total inter  faculty:students ratio  \\\n",
       "0            NaN          NaN                     NaN   \n",
       "1            NaN          NaN                     NaN   \n",
       "2            NaN          NaN                     NaN   \n",
       "3            NaN          NaN                     NaN   \n",
       "4            NaN          NaN                     NaN   \n",
       "\n",
       "   % international students  \n",
       "0                       NaN  \n",
       "1                       NaN  \n",
       "2                       NaN  \n",
       "3                       NaN  \n",
       "4                       NaN  "
      ]
     },
     "execution_count": 19,
     "metadata": {},
     "output_type": "execute_result"
    }
   ],
   "source": [
    "qs_df.sort_values('% international students' , ascending=False).head()"
   ]
  },
  {
   "cell_type": "markdown",
   "metadata": {},
   "source": [
    "## Aggregating by Country\n",
    "\n",
    "We'll first create a new `DataFrame` which will have info aggregated by country"
   ]
  },
  {
   "cell_type": "code",
   "execution_count": 20,
   "metadata": {
    "collapsed": true
   },
   "outputs": [],
   "source": [
    "qs_country = pd.DataFrame(columns=['country'] + columns_to_add )\n",
    "qs_country['country'] = qs_df['country'].unique()\n",
    "qs_country.set_index('country', inplace=True)"
   ]
  },
  {
   "cell_type": "code",
   "execution_count": 23,
   "metadata": {},
   "outputs": [
    {
     "data": {
      "text/html": [
       "<div>\n",
       "<style>\n",
       "    .dataframe thead tr:only-child th {\n",
       "        text-align: right;\n",
       "    }\n",
       "\n",
       "    .dataframe thead th {\n",
       "        text-align: left;\n",
       "    }\n",
       "\n",
       "    .dataframe tbody tr th {\n",
       "        vertical-align: top;\n",
       "    }\n",
       "</style>\n",
       "<table border=\"1\" class=\"dataframe\">\n",
       "  <thead>\n",
       "    <tr style=\"text-align: right;\">\n",
       "      <th></th>\n",
       "      <th>total faculty</th>\n",
       "      <th>inter faculty</th>\n",
       "      <th>total student</th>\n",
       "      <th>total inter</th>\n",
       "    </tr>\n",
       "    <tr>\n",
       "      <th>country</th>\n",
       "      <th></th>\n",
       "      <th></th>\n",
       "      <th></th>\n",
       "      <th></th>\n",
       "    </tr>\n",
       "  </thead>\n",
       "  <tbody>\n",
       "    <tr>\n",
       "      <th>United States</th>\n",
       "      <td>0</td>\n",
       "      <td>0</td>\n",
       "      <td>0</td>\n",
       "      <td>0</td>\n",
       "    </tr>\n",
       "    <tr>\n",
       "      <th>United Kingdom</th>\n",
       "      <td>0</td>\n",
       "      <td>0</td>\n",
       "      <td>0</td>\n",
       "      <td>0</td>\n",
       "    </tr>\n",
       "    <tr>\n",
       "      <th>Switzerland</th>\n",
       "      <td>0</td>\n",
       "      <td>0</td>\n",
       "      <td>0</td>\n",
       "      <td>0</td>\n",
       "    </tr>\n",
       "    <tr>\n",
       "      <th>Singapore</th>\n",
       "      <td>0</td>\n",
       "      <td>0</td>\n",
       "      <td>0</td>\n",
       "      <td>0</td>\n",
       "    </tr>\n",
       "    <tr>\n",
       "      <th>Australia</th>\n",
       "      <td>0</td>\n",
       "      <td>0</td>\n",
       "      <td>0</td>\n",
       "      <td>0</td>\n",
       "    </tr>\n",
       "  </tbody>\n",
       "</table>\n",
       "</div>"
      ],
      "text/plain": [
       "               total faculty inter faculty total student total inter\n",
       "country                                                             \n",
       "United States              0             0             0           0\n",
       "United Kingdom             0             0             0           0\n",
       "Switzerland                0             0             0           0\n",
       "Singapore                  0             0             0           0\n",
       "Australia                  0             0             0           0"
      ]
     },
     "execution_count": 23,
     "metadata": {},
     "output_type": "execute_result"
    }
   ],
   "source": [
    "qs_country.head()"
   ]
  },
  {
   "cell_type": "markdown",
   "metadata": {},
   "source": [
    "Let's calculate the totals per country"
   ]
  },
  {
   "cell_type": "code",
   "execution_count": 21,
   "metadata": {
    "collapsed": true
   },
   "outputs": [],
   "source": [
    "for country in qs_df['country'].unique():\n",
    "    sums = qs_df[qs_df['country'] == country][columns_to_add].sum()\n",
    "    qs_country.loc[country][columns_to_add] = sums"
   ]
  },
  {
   "cell_type": "markdown",
   "metadata": {},
   "source": [
    "Now let's calculate the same two stats that we did per university before"
   ]
  },
  {
   "cell_type": "code",
   "execution_count": 24,
   "metadata": {},
   "outputs": [],
   "source": [
    "#qs_country['faculty:students ratio'] = qs_country['total faculty']/qs_country['total student']\n",
    "#qs_country['% international students'] = 100*qs_country['total inter']/qs_country['total student']"
   ]
  },
  {
   "cell_type": "code",
   "execution_count": null,
   "metadata": {
    "collapsed": true
   },
   "outputs": [],
   "source": [
    "qs_country.sort_values('faculty:students ratio' , ascending=False).head()"
   ]
  },
  {
   "cell_type": "code",
   "execution_count": null,
   "metadata": {
    "collapsed": true
   },
   "outputs": [],
   "source": [
    "qs_country.sort_values('% international students' , ascending=False).head()"
   ]
  },
  {
   "cell_type": "markdown",
   "metadata": {},
   "source": [
    "## Aggregating by region\n",
    "Let's do the same thing but grouping per region now, we'll do this in the same way as before."
   ]
  },
  {
   "cell_type": "code",
   "execution_count": 26,
   "metadata": {},
   "outputs": [],
   "source": [
    "#qs_region = pd.DataFrame(columns=['region'] + columns_to_add )\n",
    "#qs_region['region'] = qs_df['region'].unique()\n",
    "#qs_region.set_index('region', inplace=True)\n",
    "#qs_region.head()\n",
    "\n",
    "#for region in qs_df['region'].unique():\n",
    "#    sums = qs_df[qs_df['region'] == region][columns_to_add].sum()\n",
    "#    qs_region.loc[region][columns_to_add] = sums\n",
    "    \n",
    "#qs_region['faculty:students ratio'] = qs_region['total faculty']/qs_region['total student']\n",
    "#qs_region['% international students'] = 100*qs_region['total inter']/qs_region['total student']"
   ]
  },
  {
   "cell_type": "code",
   "execution_count": null,
   "metadata": {
    "collapsed": true
   },
   "outputs": [],
   "source": [
    "qs_region.sort_values('faculty:students ratio' , ascending=False)"
   ]
  },
  {
   "cell_type": "code",
   "execution_count": null,
   "metadata": {
    "collapsed": true
   },
   "outputs": [],
   "source": [
    "qs_region.sort_values('% international students' , ascending=False)"
   ]
  },
  {
   "cell_type": "markdown",
   "metadata": {},
   "source": [
    "# 02. Scraping top 200 universities from Times Higher Education\n",
    "\n",
    "We have the same issue as before, the HTML from the given url doesn't contain the data that we actually\n",
    "want, rather it is loaded with a jQuery to a `json` somewhere else on the site. Using Postman and inspecting the html, there is only one `json` loaded on the ranking page, so we'll simply do some string handling to extract\n",
    "the url of interest from the HTML."
   ]
  },
  {
   "cell_type": "code",
   "execution_count": null,
   "metadata": {
    "collapsed": true
   },
   "outputs": [],
   "source": [
    "times_url = 'https://www.timeshighereducation.com/world-university-rankings/2018/world-ranking'\n",
    "resp = requests.get(times_url)"
   ]
  },
  {
   "cell_type": "markdown",
   "metadata": {},
   "source": [
    "In order to extract the url we want, we're first going to find where the \"json\" at the end of the url is located. We'll then use `rfind` to find the \"http\" at the beginning of this url."
   ]
  },
  {
   "cell_type": "code",
   "execution_count": null,
   "metadata": {
    "collapsed": true
   },
   "outputs": [],
   "source": [
    "stop = resp.text.find('json')\n",
    "start = resp.text.rfind('http', 0 , stop)\n",
    "times_data_url = resp.text[start:stop+len('json')]\n",
    "print(times_data_url)"
   ]
  },
  {
   "cell_type": "markdown",
   "metadata": {},
   "source": [
    "As before, we need to filter out all the backlashes"
   ]
  },
  {
   "cell_type": "code",
   "execution_count": null,
   "metadata": {
    "collapsed": true
   },
   "outputs": [],
   "source": [
    "times_data_url = times_data_url.replace('\\\\' , '')\n",
    "print(times_data_url)"
   ]
  },
  {
   "cell_type": "code",
   "execution_count": null,
   "metadata": {
    "collapsed": true
   },
   "outputs": [],
   "source": [
    "times_data = requests.get(times_data_url)\n",
    "times_parsed = times_data.json()"
   ]
  },
  {
   "cell_type": "markdown",
   "metadata": {},
   "source": [
    "We've got some other keys than just the `data` one, but they don't seem of use for what we're looking for. `location` is already contained in the main `data` key-value pair"
   ]
  },
  {
   "cell_type": "code",
   "execution_count": null,
   "metadata": {
    "collapsed": true
   },
   "outputs": [],
   "source": [
    "times_parsed.keys()"
   ]
  },
  {
   "cell_type": "markdown",
   "metadata": {},
   "source": [
    "Again, it looks like the `list` we get in the `data` key is conveniently organised from highest to lowest ranked:"
   ]
  },
  {
   "cell_type": "code",
   "execution_count": null,
   "metadata": {
    "collapsed": true
   },
   "outputs": [],
   "source": [
    "times_parsed['data'][0]"
   ]
  },
  {
   "cell_type": "markdown",
   "metadata": {},
   "source": [
    "Let's create our `DataFrame` containing the top 200"
   ]
  },
  {
   "cell_type": "code",
   "execution_count": null,
   "metadata": {
    "collapsed": true
   },
   "outputs": [],
   "source": [
    "times_df = pd.DataFrame()\n",
    "for i in range(0,200):\n",
    "    times_df = times_df.append(times_parsed['data'][i], ignore_index=True)\n",
    "print(times_df.shape)\n",
    "times_df.head()"
   ]
  },
  {
   "cell_type": "markdown",
   "metadata": {},
   "source": [
    "We've got a lot more information this time, let's get rid of the columns we're not interested in, after backing it up to a pickle. We'll rename some of the columns too, to make it consistent with the previous `df`"
   ]
  },
  {
   "cell_type": "code",
   "execution_count": null,
   "metadata": {
    "collapsed": true
   },
   "outputs": [],
   "source": [
    "pickle.dump( times_df, open( \"times_dataframe.p\", \"wb\" ) )\n",
    "times_df = pickle.load( open( \"times_dataframe.p\", \"rb\" ) )\n",
    "times_df = times_df[['location','name','rank','stats_student_staff_ratio','stats_number_students','stats_pc_intl_students']]\n",
    "times_df.rename(columns={'location':'country', 'stats_number_students':'total student','rank':'rank_display','stats_pc_intl_students':'% international students'}, inplace=True)\n",
    "times_df.rank_display = times_df.rank_display.str.replace('=','')"
   ]
  },
  {
   "cell_type": "markdown",
   "metadata": {},
   "source": [
    "Let's now add region information based on what we have from the previous `DataFrame`"
   ]
  },
  {
   "cell_type": "code",
   "execution_count": null,
   "metadata": {
    "collapsed": true
   },
   "outputs": [],
   "source": [
    "times_df['region'] = np.nan\n",
    "for country in times_df['country'].unique():\n",
    "    try:\n",
    "        times_df.loc[times_df['country'] == country, 'region'] = qs_df[qs_df['country'] == country]['region'].iloc[0]\n",
    "    except IndexError:\n",
    "        print('No region info for', country)    "
   ]
  },
  {
   "cell_type": "markdown",
   "metadata": {},
   "source": [
    "We're missing some region info about Luxembourg and the Russian Federation, so we'll add this by hand"
   ]
  },
  {
   "cell_type": "code",
   "execution_count": null,
   "metadata": {
    "collapsed": true
   },
   "outputs": [],
   "source": [
    "times_df.loc[times_df['country'] == 'Luxembourg', 'region'] = 'Europe'\n",
    "times_df.loc[times_df['country'] == 'Russian Federation', 'region'] = 'Europe' \n",
    "# in the previous data Russia is assigned to the Europe region"
   ]
  },
  {
   "cell_type": "code",
   "execution_count": null,
   "metadata": {
    "collapsed": true
   },
   "outputs": [],
   "source": [
    "times_df.head()"
   ]
  },
  {
   "cell_type": "markdown",
   "metadata": {},
   "source": [
    "## Best universities\n",
    "\n",
    "We'll change types to floats where we need it. We also need to do a little bit of string cleaning before handing it over to `Pandas`"
   ]
  },
  {
   "cell_type": "code",
   "execution_count": null,
   "metadata": {
    "collapsed": true
   },
   "outputs": [],
   "source": [
    "times_df.loc[:,'total student'] = times_df.loc[:,'total student'].str.replace(',' , '')\n",
    "times_df.loc[:,'% international students'] = times_df.loc[:,'% international students'].str.replace('%' , '')\n",
    "\n",
    "columns = ['rank_display', 'stats_student_staff_ratio', 'total student', '% international students']\n",
    "for col in columns:\n",
    "    times_df.loc[:,col] = times_df.loc[:,col].astype(float)\n",
    "times_df['faculty:students ratio'] = 1/times_df['stats_student_staff_ratio']"
   ]
  },
  {
   "cell_type": "code",
   "execution_count": null,
   "metadata": {
    "collapsed": true
   },
   "outputs": [],
   "source": [
    "times_df.sort_values('faculty:students ratio' , ascending=False).head()"
   ]
  },
  {
   "cell_type": "code",
   "execution_count": null,
   "metadata": {
    "collapsed": true
   },
   "outputs": [],
   "source": [
    "times_df.sort_values('% international students' , ascending=False).head()"
   ]
  },
  {
   "cell_type": "markdown",
   "metadata": {},
   "source": [
    "We've only got the % international students and students:staff ratio in the data from the Times, so we'll calculate the number of staff and international students from this data. Note that we don't have any info concerning % international faculty from the Times data."
   ]
  },
  {
   "cell_type": "code",
   "execution_count": null,
   "metadata": {
    "collapsed": true
   },
   "outputs": [],
   "source": [
    "times_df['total inter'] = times_df['total student']*times_df['% international students']/100\n",
    "times_df['total inter'] = times_df['total inter'].astype(int) # rounding it off to an integer\n",
    "times_df['total faculty'] = times_df['total student']*times_df['faculty:students ratio']\n",
    "times_df['total faculty'] = times_df['total faculty'].astype(int)"
   ]
  },
  {
   "cell_type": "code",
   "execution_count": null,
   "metadata": {
    "collapsed": true
   },
   "outputs": [],
   "source": [
    "times_df.head()"
   ]
  },
  {
   "cell_type": "markdown",
   "metadata": {},
   "source": [
    "## Grouping by country"
   ]
  },
  {
   "cell_type": "code",
   "execution_count": null,
   "metadata": {
    "collapsed": true
   },
   "outputs": [],
   "source": [
    "columns_to_add = ['total faculty', 'total student', 'total inter']\n",
    "times_country = pd.DataFrame(columns=['country'] + columns_to_add )\n",
    "times_country['country'] = times_df['country'].unique()\n",
    "times_country.set_index('country', inplace=True)\n",
    "\n",
    "for country in times_df['country'].unique():\n",
    "    sums = times_df[times_df['country'] == country][columns_to_add].sum()\n",
    "    times_country.loc[country][columns_to_add] = sums\n",
    "\n",
    "times_country['faculty:students ratio'] = times_country['total faculty']/times_country['total student']\n",
    "times_country['% international students'] = 100*times_country['total inter']/times_country['total student']\n",
    "times_country.head()"
   ]
  },
  {
   "cell_type": "code",
   "execution_count": null,
   "metadata": {
    "collapsed": true
   },
   "outputs": [],
   "source": [
    "times_country.sort_values('faculty:students ratio' , ascending=False).head()"
   ]
  },
  {
   "cell_type": "code",
   "execution_count": null,
   "metadata": {
    "collapsed": true
   },
   "outputs": [],
   "source": [
    "times_country.sort_values('% international students' , ascending=False).head()"
   ]
  },
  {
   "cell_type": "markdown",
   "metadata": {},
   "source": [
    "## Grouping by region"
   ]
  },
  {
   "cell_type": "code",
   "execution_count": null,
   "metadata": {
    "collapsed": true
   },
   "outputs": [],
   "source": [
    "columns_to_add = ['total faculty', 'total student', 'total inter']\n",
    "times_region = pd.DataFrame(columns=['region'] + columns_to_add )\n",
    "times_region['region'] = times_df['region'].unique()\n",
    "times_region.set_index('region', inplace=True)\n",
    "\n",
    "for region in times_df['region'].unique():\n",
    "    sums = times_df[times_df['region'] == region][columns_to_add].sum()\n",
    "    times_region.loc[region, columns_to_add] = sums\n",
    "    \n",
    "times_region['faculty:students ratio'] = times_region['total faculty']/times_region['total student']\n",
    "times_region['% international students'] = 100*times_region['total inter']/times_region['total student']\n",
    "times_region.head()"
   ]
  },
  {
   "cell_type": "code",
   "execution_count": null,
   "metadata": {
    "collapsed": true
   },
   "outputs": [],
   "source": [
    "times_region.sort_values('faculty:students ratio' , ascending=False).head()"
   ]
  },
  {
   "cell_type": "code",
   "execution_count": null,
   "metadata": {
    "collapsed": true
   },
   "outputs": [],
   "source": [
    "times_region.sort_values('% international students' , ascending=False).head()"
   ]
  },
  {
   "cell_type": "markdown",
   "metadata": {},
   "source": [
    "# 03. Merging both `DataFrames`\n",
    "\n",
    "As we've been looking at the number of students and faculty as well as whether they're international or not, we'll only keep this data in the merged `DataFrame`. It already looks like we only recover about half of the universities when we try to match them by name, 105 out of 200."
   ]
  },
  {
   "cell_type": "code",
   "execution_count": null,
   "metadata": {
    "collapsed": true
   },
   "outputs": [],
   "source": [
    "len(set(times_df['name'].unique()).intersection(qs_df['name'].unique()))"
   ]
  },
  {
   "cell_type": "markdown",
   "metadata": {},
   "source": [
    "Let's try to see if we can increase this match by using the str.contains() method. If one of the `dfs` has a name that is extended from the other, we'll simplify this back to the shorter name. We can see that we recover more than 30 universities this way."
   ]
  },
  {
   "cell_type": "code",
   "execution_count": null,
   "metadata": {
    "collapsed": true
   },
   "outputs": [],
   "source": [
    "diff1 = list(set(times_df['name'].unique()).difference(qs_df['name'].unique()))\n",
    "diff2 = list(set(qs_df['name'].unique()).difference(times_df['name'].unique()))\n",
    "\n",
    "for i in diff1:\n",
    "    if len(qs_df[qs_df['name'].str.contains(i)]) > 0:\n",
    "        qs_df.loc[qs_df['name'].str.contains(i), 'name'] = i\n",
    "for i in diff2:\n",
    "    if len(times_df[times_df['name'].str.contains(i)]) > 0:\n",
    "        times_df.loc[times_df['name'].str.contains(i),'name'] = i"
   ]
  },
  {
   "cell_type": "code",
   "execution_count": null,
   "metadata": {
    "collapsed": true
   },
   "outputs": [],
   "source": [
    "len(set(times_df['name'].unique()).intersection(qs_df['name'].unique()))"
   ]
  },
  {
   "cell_type": "code",
   "execution_count": null,
   "metadata": {
    "collapsed": true
   },
   "outputs": [],
   "source": [
    "mrg_df = times_df.merge(qs_df, how='inner', on='name')\n",
    "print(mrg_df.shape)\n",
    "mrg_df.head()"
   ]
  },
  {
   "cell_type": "code",
   "execution_count": null,
   "metadata": {
    "collapsed": true
   },
   "outputs": [],
   "source": [
    "mrg_df.sort_index(axis=1, inplace=True)"
   ]
  },
  {
   "cell_type": "markdown",
   "metadata": {},
   "source": [
    "# 04. Exploratory Analysis"
   ]
  },
  {
   "cell_type": "markdown",
   "metadata": {},
   "source": [
    "We can simply perform a correlation between all columns to get an overal look at our data. We'll use Spearman's correlation coefficient, as we want to capture more than just linear relationships. Inspection (not shown here) with Pearson's showed similar trends.\n",
    "\n",
    "This actually gives us two pieces of information. Fist of all we can identify where our datasets diverge by comparing the same metric between both sets. Keep in mind this is correlation, so it will show a difference in trend of these numbers, not absolute value. Firstly we see that most data between sets have correlation of > 90%, however it seems that what consists of 'faculty' is rather different between the two. Indeed the topuniversities data mentions 'number of academic faculty staff' whereas the times only says 'staff'."
   ]
  },
  {
   "cell_type": "code",
   "execution_count": null,
   "metadata": {
    "collapsed": true
   },
   "outputs": [],
   "source": [
    "mrg_df.corr(method='spearman')"
   ]
  },
  {
   "cell_type": "markdown",
   "metadata": {},
   "source": [
    "One of the stronger tends (Spearman's between roughly 0.4-0.6) is between the % of international students and total international students, suggesting that\n",
    "more international students there are in a university, the higher the fraction of international students. This could\n",
    "be due to a sort of \"sheep\" effect, where there are already large established international student communities is where they also represent a majority of the student population.\n",
    "\n",
    "There are a few weak trends we can observe, with either Spearman's coefficients roughly between 0.3 and 0.4\n",
    "\n",
    "* Spearman's suggests that there is some relationship between the % of international students and the number of international faculty members, the various correlation coefficients range between 0.29 and 0.41.\n",
    "* They also show some inverse relationship between the number of students and the & international students, suggesting that universities with more students have less of a fraction international students\n",
    "\n",
    "Again, these are rather weak trends, and would need further investigating to conclude something from them"
   ]
  },
  {
   "cell_type": "markdown",
   "metadata": {},
   "source": [
    "# 05. Finding the 'best' university\n",
    "\n",
    "I believe that the ranking is the number one metric for trying to judge if a university is best. These two datasets have already synthesized lots of information into coming up with this ranking, so we might as well use it. We should try to take into account the difference in rankings in the two data sets. \n",
    "\n",
    "The quality of education students receive is also linked to how many staff are available to teach. Of course, a high faculty:student ratio does not automatically mean that all these extra faculty members are helping to teach students, but it's at least an opportunity for students to receive a better education.\n",
    "\n",
    "We'll therefore use a weighted sum of means to estimate the 'best' university based on both sets. We'll take the mean of the rank from both data sets, and add the mean of the student:staff ratio with a lower weight to re-rank the universities."
   ]
  },
  {
   "cell_type": "code",
   "execution_count": null,
   "metadata": {
    "collapsed": true
   },
   "outputs": [],
   "source": [
    "mrg_df['mean_rank'] = mrg_df[['rank_display_x','rank_display_y']].mean(axis=1)\n",
    "mrg_df['mean_%_inter'] = mrg_df[['% international students_x','% international students_x']].mean(axis=1)/100"
   ]
  },
  {
   "cell_type": "code",
   "execution_count": null,
   "metadata": {
    "collapsed": true
   },
   "outputs": [],
   "source": [
    "mrg_df['new_rank'] = mrg_df['mean_rank'] - mrg_df['mean_%_inter']\n",
    "mrg_df.set_index('new_rank', inplace=True)\n",
    "mrg_df.sort_index().head()"
   ]
  },
  {
   "cell_type": "code",
   "execution_count": null,
   "metadata": {
    "collapsed": true
   },
   "outputs": [],
   "source": []
  }
 ],
 "metadata": {
  "kernelspec": {
   "display_name": "Python 3",
   "language": "python",
   "name": "python3"
  },
  "language_info": {
   "codemirror_mode": {
    "name": "ipython",
    "version": 3
   },
   "file_extension": ".py",
   "mimetype": "text/x-python",
   "name": "python",
   "nbconvert_exporter": "python",
   "pygments_lexer": "ipython3",
   "version": "3.6.1"
  }
 },
 "nbformat": 4,
 "nbformat_minor": 2
}
